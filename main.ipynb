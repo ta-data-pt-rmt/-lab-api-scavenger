{
 "cells": [
  {
   "cell_type": "markdown",
   "id": "2eaf369f",
   "metadata": {},
   "source": [
    "### Your lab resolution :"
   ]
  },
  {
   "cell_type": "code",
   "execution_count": null,
   "id": "6c94489a",
   "metadata": {},
   "outputs": [],
   "source": [
    "Challenge 1: Fork Languages\n",
    "You will find out how many programming languages are used among all the forks created from the main lab repo of your bootcamp. Assuming the main lab repo is ironhack-datalabs/bcn-feb-2019, you will:\n",
    "\n",
    "Obtain the full list of forks created from the main lab repo via Github API.\n",
    "\n",
    "Loop the JSON response to find out the language attribute of each fork. Use an array to store the language attributes of each fork.\n",
    "\n",
    "Hint: Each language should appear only once in your array.\n",
    "Print the language array. It should be something like:\n",
    "\n",
    "[\"Python\", \"Jupyter Notebook\", \"HTML\"]\n",
    "\n",
    "Again, the documentation of Github API is here."
   ]
  },
  {
   "cell_type": "code",
   "execution_count": 9,
   "id": "9b38c083-deaa-486c-a073-ed86ad2ef7f3",
   "metadata": {},
   "outputs": [
    {
     "name": "stdout",
     "output_type": "stream",
     "text": [
      "['Jupyter Notebook']\n"
     ]
    }
   ],
   "source": [
    "import requests\n",
    "\n",
    "# GitHub repository information\n",
    "owner = \"ironhack-datalabs\"\n",
    "repo = \"bcn-feb-2019\"\n",
    "\n",
    "# GitHub API URL to get the forks of the repository\n",
    "url = f\"https://api.github.com/repos/{owner}/{repo}/forks\"\n",
    "\n",
    "# Optionally, include your GitHub token for authenticated requests to avoid rate limits\n",
    "headers = {\"Authorization\": \"token\"}\n",
    "\n",
    "# Make the request to get the forks\n",
    "response = requests.get(url)  \n",
    "forks = response.json()\n",
    "\n",
    "# Initialize an empty set to store unique languages\n",
    "languages = set()\n",
    "\n",
    "# Loop through each fork to get the language\n",
    "for fork in forks:\n",
    "    if fork['language']:\n",
    "        languages.add(fork['language'])\n",
    "\n",
    "# Convert the set to a list\n",
    "languages_list = list(languages)\n",
    "\n",
    "# Print the language array\n",
    "print(languages_list)\n"
   ]
  },
  {
   "cell_type": "code",
   "execution_count": null,
   "id": "2108f5fb-efcf-4673-8ea5-6113286f61d3",
   "metadata": {},
   "outputs": [],
   "source": [
    "Challenge 2: Count Commits\n",
    "Assuming the main lab repo is ta-data-pt-rmt/lab-mysql-first-queries, you will count how many commits were made in the past 3 weeks:\n",
    "\n",
    "Obtain all the commits made in the past 3 weeks via API, which is a JSON array that contains multiple commit objects.\n",
    "\n",
    "Count how many commit objects are contained in the array."
   ]
  },
  {
   "cell_type": "code",
   "execution_count": 12,
   "id": "3b7a3d6f-51cc-4df1-8195-7ecf9c1cee03",
   "metadata": {},
   "outputs": [
    {
     "name": "stdout",
     "output_type": "stream",
     "text": [
      "Number of commits made in the past 3 weeks: 0\n"
     ]
    }
   ],
   "source": [
    "import requests\n",
    "from datetime import datetime, timedelta\n",
    "import pytz\n",
    "\n",
    "# Repository details\n",
    "owner = \"ta-data-pt-rmt\"\n",
    "repo = \"lab-mysql-first-queries\"\n",
    "\n",
    "# Calculate the date 3 weeks ago from today, in ISO 8601 format and UTC timezone\n",
    "three_weeks_ago = datetime.now(pytz.utc) - timedelta(weeks=3)\n",
    "since_date = three_weeks_ago.isoformat()\n",
    "\n",
    "# Construct the API endpoint URL\n",
    "url = f\"https://api.github.com/repos/{owner}/{repo}/commits?since={since_date}\"\n",
    "\n",
    "# If you have a token, replace 'your_token' with it, else you may remove the 'Authorization' line\n",
    "headers = {\n",
    "    \"Accept\": \"application/vnd.github.v3+json\",\n",
    "    # \"Authorization\": \"token\" \n",
    "}\n",
    "\n",
    "response = requests.get(url, headers=headers)\n",
    "\n",
    "# Check if the request was successful\n",
    "if response.status_code == 404:\n",
    "    raise Exception(\"Repository not found. Check the owner and repository names.\")\n",
    "elif response.status_code != 200:\n",
    "    raise Exception(f\"Failed to fetch data: {response.status_code}\")\n",
    "\n",
    "commits_data = response.json()\n",
    "\n",
    "# Count the number of commits in the response\n",
    "commit_count = len(commits_data)\n",
    "print(f\"Number of commits made in the past 3 weeks: {commit_count}\")"
   ]
  },
  {
   "cell_type": "code",
   "execution_count": null,
   "id": "34e7737e-036a-4c0c-ad61-07e002d4cd5d",
   "metadata": {},
   "outputs": [],
   "source": []
  }
 ],
 "metadata": {
  "kernelspec": {
   "display_name": "Python 3 (ipykernel)",
   "language": "python",
   "name": "python3"
  },
  "language_info": {
   "codemirror_mode": {
    "name": "ipython",
    "version": 3
   },
   "file_extension": ".py",
   "mimetype": "text/x-python",
   "name": "python",
   "nbconvert_exporter": "python",
   "pygments_lexer": "ipython3",
   "version": "3.11.7"
  }
 },
 "nbformat": 4,
 "nbformat_minor": 5
}
