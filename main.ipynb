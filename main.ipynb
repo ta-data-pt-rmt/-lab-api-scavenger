{
 "cells": [
  {
   "cell_type": "markdown",
   "id": "2eaf369f",
   "metadata": {},
   "source": [
    "### Your lab resolution :"
   ]
  },
  {
   "cell_type": "markdown",
   "id": "c719d822",
   "metadata": {},
   "source": [
    "Challenge 1"
   ]
  },
  {
   "cell_type": "code",
   "execution_count": 2,
   "id": "4d49e642",
   "metadata": {},
   "outputs": [
    {
     "name": "stdout",
     "output_type": "stream",
     "text": [
      "Username: ReginaVeliczky\n",
      "Name: None\n",
      "Public Repos: 24\n"
     ]
    }
   ],
   "source": [
    "import requests\n",
    "\n",
    "#My personal access token\n",
    "token = {token}\n",
    "\n",
    "#The GitHub API URL\n",
    "api_url = 'https://api.github.com/user'\n",
    "\n",
    "headers = {\n",
    "'Authorization': f'token {token}',\n",
    "'Accept': 'application/vnd.github.v3+json'\n",
    "}\n",
    "\n",
    "#Request to the GitHub API\n",
    "response = requests.get(api_url, headers=headers)\n",
    "\n",
    "#Check if the request was successful\n",
    "if response.status_code == 200:\n",
    "    user_data = response.json()\n",
    "    print(f\"Username: {user_data['login']}\")\n",
    "    print(f\"Name: {user_data['name']}\")\n",
    "    print(f\"Public Repos: {user_data['public_repos']}\")\n",
    "else:\n",
    "    print(f\"Failed to retrieve user data: {response.status_code}\")\n",
    "    print(response.json())"
   ]
  },
  {
   "cell_type": "code",
   "execution_count": 7,
   "id": "d1eadc47",
   "metadata": {},
   "outputs": [
    {
     "name": "stdout",
     "output_type": "stream",
     "text": [
      "['Jupyter Notebook']\n"
     ]
    }
   ],
   "source": [
    "import requests\n",
    "\n",
    "repo_owner = \"ironhack-datalabs\"\n",
    "repo_name = \"bcn-feb-2019\"\n",
    "url = f\"https://api.github.com/repos/{repo_owner}/{repo_name}/forks\"\n",
    "\n",
    "# My personal access token\n",
    "token = {token}\n",
    "\n",
    "headers = {\n",
    "    'Authorization': f'token {token}',\n",
    "    'Accept': 'application/vnd.github.v3+json'\n",
    "}\n",
    "\n",
    "# Make a request to the GitHub API\n",
    "response = requests.get(url, headers=headers)\n",
    "\n",
    "# Check if the request was successful\n",
    "if response.status_code == 200:\n",
    "    forks = response.json()\n",
    "    languages = set()  \n",
    "\n",
    "    # Loop through the forks\n",
    "    for fork in forks:\n",
    "        language = fork['language']\n",
    "        if language: \n",
    "            languages.add(language)\n",
    "\n",
    " \n",
    "    language_list = list(languages)\n",
    "    print(language_list)\n",
    "else:\n",
    "    print(f\"Failed to retrieve forks: {response.status_code}\")\n",
    "    print(response.json())\n"
   ]
  },
  {
   "cell_type": "markdown",
   "id": "feee6270",
   "metadata": {},
   "source": [
    "Challenge 2"
   ]
  },
  {
   "cell_type": "code",
   "execution_count": 4,
   "id": "b2cb922b",
   "metadata": {},
   "outputs": [
    {
     "name": "stdout",
     "output_type": "stream",
     "text": [
      "Number of commits in the past 3 weeks: 0\n"
     ]
    }
   ],
   "source": [
    "import requests\n",
    "import datetime\n",
    "\n",
    "repo_owner = \"ta-data-pt-rmt\"\n",
    "repo_name = \"lab-mysql-first-queries\"\n",
    "url = f\"https://api.github.com/repos/{repo_owner}/{repo_name}/commits\"\n",
    "\n",
    "# My personal access token\n",
    "token = {token}\n",
    "\n",
    "# Calculate the date 3 weeks ago from today\n",
    "three_weeks_ago = datetime.datetime.now() - datetime.timedelta(weeks=3)\n",
    "since_date = three_weeks_ago.isoformat()\n",
    "\n",
    "headers = {\n",
    "    'Authorization': f'token {token}',\n",
    "    'Accept': 'application/vnd.github.v3+json'\n",
    "}\n",
    "\n",
    "\n",
    "params = {\n",
    "    'since': since_date\n",
    "}\n",
    "\n",
    "# Make a request to the GitHub API \n",
    "response = requests.get(url, headers=headers, params=params)\n",
    "\n",
    "# Check if the request was successful\n",
    "if response.status_code == 200:\n",
    "    commits = response.json()\n",
    "    num_commits = len(commits)\n",
    "    print(f\"Number of commits in the past 3 weeks: {num_commits}\")\n",
    "else:\n",
    "    print(f\"Failed to retrieve commits: {response.status_code}\")\n",
    "    print(response.json())\n"
   ]
  },
  {
   "cell_type": "code",
   "execution_count": null,
   "id": "b76aff31",
   "metadata": {},
   "outputs": [],
   "source": []
  }
 ],
 "metadata": {
  "kernelspec": {
   "display_name": "Python 3 (ipykernel)",
   "language": "python",
   "name": "python3"
  },
  "language_info": {
   "codemirror_mode": {
    "name": "ipython",
    "version": 3
   },
   "file_extension": ".py",
   "mimetype": "text/x-python",
   "name": "python",
   "nbconvert_exporter": "python",
   "pygments_lexer": "ipython3",
   "version": "3.11.7"
  }
 },
 "nbformat": 4,
 "nbformat_minor": 5
}
