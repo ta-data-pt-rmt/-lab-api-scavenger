{
 "cells": [
  {
   "cell_type": "markdown",
   "id": "2eaf369f",
   "metadata": {},
   "source": [
    "### Your lab resolution :"
   ]
  },
  {
   "cell_type": "code",
   "execution_count": 1,
   "id": "6c94489a",
   "metadata": {},
   "outputs": [
    {
     "data": {
      "text/plain": [
       "['Jupyter Notebook']"
      ]
     },
     "execution_count": 1,
     "metadata": {},
     "output_type": "execute_result"
    }
   ],
   "source": [
    "import requests\n",
    "import json\n",
    "\n",
    "url = \"https://api.github.com/repos/ironhack-datalabs/bcn-feb-2019/forks\"\n",
    "params = {\"per_page\": 100}\n",
    "\n",
    "response = requests.get(url, params=params)\n",
    "data = response.json()\n",
    "\n",
    "languages = []\n",
    "for fork in data:\n",
    "    language = fork[\"language\"]\n",
    "    if language and language not in languages:\n",
    "        languages.append(language)\n",
    "\n",
    "\n",
    "languages"
   ]
  },
  {
   "cell_type": "code",
   "execution_count": 2,
   "id": "32620fef",
   "metadata": {},
   "outputs": [
    {
     "name": "stdout",
     "output_type": "stream",
     "text": [
      "Number of commits in the past 3 weeks: 0\n"
     ]
    }
   ],
   "source": [
    "import requests\n",
    "import datetime\n",
    "\n",
    "repo_owner = \"ta-data-pt-rmt\"\n",
    "repo_name = \"lab-mysql-first-queries\"\n",
    "\n",
    "today = datetime.date.today()\n",
    "three_weeks_ago = today - datetime.timedelta(weeks=3)\n",
    "\n",
    "url = f\"https://api.github.com/repos/{repo_owner}/{repo_name}/commits\"\n",
    "\n",
    "headers = {\"Accept\": \"application/vnd.github.v3+json\"}\n",
    "params = {\n",
    "    \"since\": three_weeks_ago.isoformat(),\n",
    "    \"per_page\": 100\n",
    "}\n",
    "\n",
    "response = requests.get(url, headers=headers, params=params)\n",
    "data = response.json()\n",
    "\n",
    "commit_count = len(data)\n",
    "\n",
    "print(f\"Number of commits in the past 3 weeks: {commit_count}\")"
   ]
  },
  {
   "cell_type": "code",
   "execution_count": null,
   "id": "8cd0d642",
   "metadata": {},
   "outputs": [],
   "source": []
  }
 ],
 "metadata": {
  "kernelspec": {
   "display_name": "Python 3 (ipykernel)",
   "language": "python",
   "name": "python3"
  },
  "language_info": {
   "codemirror_mode": {
    "name": "ipython",
    "version": 3
   },
   "file_extension": ".py",
   "mimetype": "text/x-python",
   "name": "python",
   "nbconvert_exporter": "python",
   "pygments_lexer": "ipython3",
   "version": "3.9.13"
  }
 },
 "nbformat": 4,
 "nbformat_minor": 5
}
