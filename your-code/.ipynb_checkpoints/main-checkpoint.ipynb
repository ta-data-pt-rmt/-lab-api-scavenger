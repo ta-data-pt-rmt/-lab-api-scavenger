{
 "cells": [
  {
   "cell_type": "markdown",
   "id": "2eaf369f",
   "metadata": {},
   "source": [
    "### Your lab resolution :"
   ]
  },
  {
   "cell_type": "code",
   "execution_count": 112,
   "id": "0f7208bd",
   "metadata": {},
   "outputs": [],
   "source": [
    "import requests\n",
    "import json\n",
    "from datetime import datetime\n",
    "\n",
    "import pandas as pd\n",
    "import datetime"
   ]
  },
  {
   "cell_type": "code",
   "execution_count": 16,
   "id": "5bc1bdc7",
   "metadata": {},
   "outputs": [],
   "source": [
    "key_file = open(\"key.txt\")\n",
    "for line in key_file:\n",
    "    token = line.replace('\\n','').strip()\n",
    "    \n",
    "headers = {'Authorization': 'token %s' % token}"
   ]
  },
  {
   "cell_type": "code",
   "execution_count": 48,
   "id": "d6113c5c",
   "metadata": {},
   "outputs": [
    {
     "name": "stdout",
     "output_type": "stream",
     "text": [
      "['Python', 'Jupyter Notebook', 'HTML']\n"
     ]
    }
   ],
   "source": [
    "'''\n",
    "\n",
    "Challenge 1: Fork Languages\n",
    "\n",
    "'''\n",
    "\n",
    "response = requests.get('https://api.github.com/repos/ironhack-datalabs/bcn-feb-2019', headers=headers)\n",
    "forks_response = requests.get(response.json()['forks_url'], headers=headers)\n",
    "\n",
    "for i in range(len(forks_response.json())):\n",
    "    \n",
    "    lang_response = requests.get(forks_response.json()[i]['languages_url'], headers=headers)\n",
    "    \n",
    "    lang_set = {}\n",
    "    lang_set = set()\n",
    "    for key in lang_response.json().keys():\n",
    "        lang_set.add(key)\n",
    "        \n",
    "print(list(lang_set))"
   ]
  },
  {
   "cell_type": "code",
   "execution_count": null,
   "id": "ba580bf9",
   "metadata": {},
   "outputs": [],
   "source": [
    "'''\n",
    "\n",
    "Challenge 2: Count Commits \n",
    "\n",
    "'''"
   ]
  },
  {
   "cell_type": "code",
   "execution_count": 139,
   "id": "9205c0e2",
   "metadata": {},
   "outputs": [
    {
     "data": {
      "text/plain": [
       "'2022-10-17T13:51:24.311732'"
      ]
     },
     "execution_count": 139,
     "metadata": {},
     "output_type": "execute_result"
    }
   ],
   "source": [
    "now = datetime.datetime.today().strftime('%Y-%m-%d %H:%M:%S')\n",
    "now\n",
    "from_date = datetime.datetime.today() - datetime.timedelta(weeks=3)\n",
    "from_date.isoformat()"
   ]
  },
  {
   "cell_type": "code",
   "execution_count": 140,
   "id": "94642f2d",
   "metadata": {},
   "outputs": [],
   "source": [
    "headers = {'Authorization': 'Bearer %s' % token,\n",
    "           'Accept': 'application/vnd.github+json'}\n",
    "\n",
    "url = 'https://api.github.com/repos/ta-data-pt-rmt/lab-mysql-first-queries/commits?since=' + from_date.isoformat()\n",
    "\n",
    "response = requests.get(url, headers=headers)\n"
   ]
  },
  {
   "cell_type": "code",
   "execution_count": 141,
   "id": "a0f4bebf",
   "metadata": {},
   "outputs": [
    {
     "data": {
      "text/plain": [
       "0"
      ]
     },
     "execution_count": 141,
     "metadata": {},
     "output_type": "execute_result"
    }
   ],
   "source": [
    "len(response.json())"
   ]
  },
  {
   "cell_type": "code",
   "execution_count": 157,
   "id": "176db848",
   "metadata": {},
   "outputs": [
    {
     "data": {
      "text/plain": [
       "\"\\nAs the last three weeks the repo doesn't have commits, I thought that maybe would be interesting \\nto know the commits of the forks\\n\""
      ]
     },
     "execution_count": 157,
     "metadata": {},
     "output_type": "execute_result"
    }
   ],
   "source": [
    "'''\n",
    "As the last three weeks the repo doesn't have commits, I thought that maybe would be interesting \n",
    "to know the commits of the forks\n",
    "'''"
   ]
  },
  {
   "cell_type": "code",
   "execution_count": 156,
   "id": "41155a60",
   "metadata": {},
   "outputs": [
    {
     "data": {
      "text/plain": [
       "3"
      ]
     },
     "metadata": {},
     "output_type": "display_data"
    }
   ],
   "source": [
    "#Get the forks of the repo\n",
    "count_commits = 0\n",
    "\n",
    "forks_response = requests.get('https://api.github.com/repos/ta-data-pt-rmt/lab-mysql-first-queries/forks', headers=headers)\n",
    "\n",
    "for i in range(len(forks_response.json())):\n",
    "\n",
    "    #Get the commits of every repository\n",
    "    \n",
    "    url_commits = forks_response.json()[i]['url'] + '/commits?since=' + from_date.isoformat()\n",
    "    \n",
    "    response_commits = requests.get(url_commits, headers=headers)\n",
    "\n",
    "    count_commits += len(response_commits.json())\n",
    "\n",
    "display(count_commits)"
   ]
  },
  {
   "cell_type": "code",
   "execution_count": null,
   "id": "f0ccd43c",
   "metadata": {},
   "outputs": [],
   "source": []
  }
 ],
 "metadata": {
  "kernelspec": {
   "display_name": "Python 3 (ipykernel)",
   "language": "python",
   "name": "python3"
  },
  "language_info": {
   "codemirror_mode": {
    "name": "ipython",
    "version": 3
   },
   "file_extension": ".py",
   "mimetype": "text/x-python",
   "name": "python",
   "nbconvert_exporter": "python",
   "pygments_lexer": "ipython3",
   "version": "3.9.12"
  }
 },
 "nbformat": 4,
 "nbformat_minor": 5
}
