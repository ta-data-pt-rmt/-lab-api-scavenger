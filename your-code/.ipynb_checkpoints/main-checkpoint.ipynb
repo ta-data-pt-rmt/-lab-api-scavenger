{
 "cells": [
  {
   "cell_type": "markdown",
   "id": "2eaf369f",
   "metadata": {},
   "source": [
    "### Your lab resolution :"
   ]
  },
  {
   "cell_type": "code",
   "execution_count": 3,
   "id": "6c94489a",
   "metadata": {},
   "outputs": [],
   "source": [
    "import json\n",
    "import requests\n",
    "import pandas as pd\n",
    "import time"
   ]
  },
  {
   "cell_type": "code",
   "execution_count": 26,
   "id": "a07d996b",
   "metadata": {},
   "outputs": [],
   "source": [
    "# Challenge 1: Fork Languages\n",
    "\n",
    "time.sleep(5)\n",
    "response = requests.get('https://api.github.com/repos/ironhack-datalabs/bcn-feb-2019/forks')\n",
    "data = response.json()"
   ]
  },
  {
   "cell_type": "code",
   "execution_count": 29,
   "id": "9dbbde4b",
   "metadata": {},
   "outputs": [
    {
     "name": "stdout",
     "output_type": "stream",
     "text": [
      "Fork Languages: {None, 'Jupyter Notebook'}\n"
     ]
    }
   ],
   "source": [
    "lang_fork = set([i['language'] for i in data])\n",
    "print(\"Fork Languages:\", lang_fork)"
   ]
  },
  {
   "cell_type": "code",
   "execution_count": 9,
   "id": "d86b2b75",
   "metadata": {},
   "outputs": [],
   "source": [
    "# Challenge 2: Count Commits\n",
    "\n",
    "time.sleep(5)\n",
    "response = requests.get('https://api.github.com/repos/ta-data-pt-rmt/lab-mysql-first-queries/commits')\n",
    "data = response.json()"
   ]
  },
  {
   "cell_type": "code",
   "execution_count": 23,
   "id": "680b765b",
   "metadata": {},
   "outputs": [
    {
     "name": "stdout",
     "output_type": "stream",
     "text": [
      "Count Commit: 3\n"
     ]
    }
   ],
   "source": [
    "data1 = pd.DataFrame.from_dict(data)\n",
    "count_commit = data1['commit'].notnull().sum()\n",
    "print(\"Count Commit:\", count_commit)"
   ]
  }
 ],
 "metadata": {
  "kernelspec": {
   "display_name": "Python 3 (ipykernel)",
   "language": "python",
   "name": "python3"
  },
  "language_info": {
   "codemirror_mode": {
    "name": "ipython",
    "version": 3
   },
   "file_extension": ".py",
   "mimetype": "text/x-python",
   "name": "python",
   "nbconvert_exporter": "python",
   "pygments_lexer": "ipython3",
   "version": "3.9.12"
  }
 },
 "nbformat": 4,
 "nbformat_minor": 5
}
