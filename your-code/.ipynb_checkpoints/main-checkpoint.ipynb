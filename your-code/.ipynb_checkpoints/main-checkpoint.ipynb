{
 "cells": [
  {
   "cell_type": "markdown",
   "id": "2eaf369f",
   "metadata": {},
   "source": [
    "### Your lab resolution :"
   ]
  },
  {
   "cell_type": "markdown",
   "id": "8f75da25",
   "metadata": {},
   "source": [
    "# Challenge 1"
   ]
  },
  {
   "cell_type": "code",
   "execution_count": 16,
   "id": "6c94489a",
   "metadata": {},
   "outputs": [],
   "source": [
    "import requests\n",
    "import pandas as pd\n",
    "import pytz\n",
    "import datetime\n",
    "import time\n",
    "from datetime import datetime, timedelta"
   ]
  },
  {
   "cell_type": "code",
   "execution_count": 2,
   "id": "be6e6999",
   "metadata": {},
   "outputs": [],
   "source": [
    "# Set the owner and repository name\n",
    "owner = \"mgelor\"\n",
    "\n",
    "with open('API_Github_password.txt', 'r') as file:\n",
    "  repo = file.read()\n",
    "\n",
    "# Make the API request\n",
    "response = requests.get(f\"https://api.github.com/repos/ironhack-datalabs/bcn-feb-2019/forks\")"
   ]
  },
  {
   "cell_type": "code",
   "execution_count": 3,
   "id": "881c8814",
   "metadata": {
    "scrolled": true
   },
   "outputs": [
    {
     "name": "stdout",
     "output_type": "stream",
     "text": [
      "fgardete/bcn-feb-2019\n",
      "StanRocha/bcn-feb-2019\n",
      "MRibas123/bcn-feb-2019\n",
      "MariaEstebanDA/bcn-feb-2019\n",
      "je-nakajima/bcn-feb-2019\n",
      "franbaldi/bcn-feb-2019\n",
      "brunacarolino/bcn-feb-2019\n"
     ]
    }
   ],
   "source": [
    "# Check if the request was successful (status code 200)\n",
    "if response.status_code == 200:\n",
    "    # Get the JSON response data\n",
    "    forks = response.json()\n",
    "\n",
    "    # Iterate over the forks and print relevant information\n",
    "    for fork in forks:\n",
    "        print(fork['full_name'])\n",
    "else:\n",
    "    print(\"Error: Unable to fetch the forks.\")"
   ]
  },
  {
   "cell_type": "code",
   "execution_count": 4,
   "id": "99c3e13f",
   "metadata": {},
   "outputs": [],
   "source": [
    "forks_data = pd.DataFrame.from_dict(forks)"
   ]
  },
  {
   "cell_type": "code",
   "execution_count": 5,
   "id": "b1e19a5e",
   "metadata": {},
   "outputs": [],
   "source": [
    "language_forks = []\n",
    "\n",
    "for lan in forks_data['language']:\n",
    "    if lan not in language_forks and lan != None:\n",
    "        language_forks.append(lan)"
   ]
  },
  {
   "cell_type": "code",
   "execution_count": 6,
   "id": "3623ecc6",
   "metadata": {},
   "outputs": [
    {
     "name": "stdout",
     "output_type": "stream",
     "text": [
      "['Jupyter Notebook']\n"
     ]
    }
   ],
   "source": [
    "print(language_forks)"
   ]
  },
  {
   "cell_type": "markdown",
   "id": "d154a9d1",
   "metadata": {},
   "source": [
    "# Challenge 2"
   ]
  },
  {
   "cell_type": "code",
   "execution_count": 7,
   "id": "483af0df",
   "metadata": {},
   "outputs": [],
   "source": [
    "response = requests.get(f\"https://api.github.com/repos/ta-data-pt-rmt/lab-mysql-first-queries/commits\")"
   ]
  },
  {
   "cell_type": "code",
   "execution_count": 8,
   "id": "fab628e9",
   "metadata": {},
   "outputs": [],
   "source": [
    "# Check if the request was successful (status code 200)\n",
    "if response.status_code == 200:\n",
    "    # Get the JSON response data\n",
    "    commits = response.json()"
   ]
  },
  {
   "cell_type": "code",
   "execution_count": 9,
   "id": "41b03514",
   "metadata": {},
   "outputs": [
    {
     "data": {
      "text/html": [
       "<div>\n",
       "<style scoped>\n",
       "    .dataframe tbody tr th:only-of-type {\n",
       "        vertical-align: middle;\n",
       "    }\n",
       "\n",
       "    .dataframe tbody tr th {\n",
       "        vertical-align: top;\n",
       "    }\n",
       "\n",
       "    .dataframe thead th {\n",
       "        text-align: right;\n",
       "    }\n",
       "</style>\n",
       "<table border=\"1\" class=\"dataframe\">\n",
       "  <thead>\n",
       "    <tr style=\"text-align: right;\">\n",
       "      <th></th>\n",
       "      <th>sha</th>\n",
       "      <th>node_id</th>\n",
       "      <th>commit</th>\n",
       "      <th>url</th>\n",
       "      <th>html_url</th>\n",
       "      <th>comments_url</th>\n",
       "      <th>author</th>\n",
       "      <th>committer</th>\n",
       "      <th>parents</th>\n",
       "    </tr>\n",
       "  </thead>\n",
       "  <tbody>\n",
       "    <tr>\n",
       "      <th>0</th>\n",
       "      <td>b2fb48cfae83a8fed6b62b4bcbed7e31109ad035</td>\n",
       "      <td>C_kwDOHB089NoAKGIyZmI0OGNmYWU4M2E4ZmVkNmI2MmI0...</td>\n",
       "      <td>{'author': {'name': 'ta-data-pt-rmt', 'email':...</td>\n",
       "      <td>https://api.github.com/repos/ta-data-pt-rmt/la...</td>\n",
       "      <td>https://github.com/ta-data-pt-rmt/lab-mysql-fi...</td>\n",
       "      <td>https://api.github.com/repos/ta-data-pt-rmt/la...</td>\n",
       "      <td>{'login': 'ta-data-pt-rmt', 'id': 99891270, 'n...</td>\n",
       "      <td>{'login': 'web-flow', 'id': 19864447, 'node_id...</td>\n",
       "      <td>[{'sha': '0e1ba0f7d937f1a1c88f578f052803e19344...</td>\n",
       "    </tr>\n",
       "    <tr>\n",
       "      <th>1</th>\n",
       "      <td>0e1ba0f7d937f1a1c88f578f052803e193440c27</td>\n",
       "      <td>C_kwDOHB089NoAKDBlMWJhMGY3ZDkzN2YxYTFjODhmNTc4...</td>\n",
       "      <td>{'author': {'name': 'ta-data-pt-rmt', 'email':...</td>\n",
       "      <td>https://api.github.com/repos/ta-data-pt-rmt/la...</td>\n",
       "      <td>https://github.com/ta-data-pt-rmt/lab-mysql-fi...</td>\n",
       "      <td>https://api.github.com/repos/ta-data-pt-rmt/la...</td>\n",
       "      <td>{'login': 'ta-data-pt-rmt', 'id': 99891270, 'n...</td>\n",
       "      <td>{'login': 'web-flow', 'id': 19864447, 'node_id...</td>\n",
       "      <td>[{'sha': '93b5ce69f2ce8dc6513e90bcbf672a1f14c9...</td>\n",
       "    </tr>\n",
       "    <tr>\n",
       "      <th>2</th>\n",
       "      <td>93b5ce69f2ce8dc6513e90bcbf672a1f14c944bd</td>\n",
       "      <td>C_kwDOHB089NoAKDkzYjVjZTY5ZjJjZThkYzY1MTNlOTBi...</td>\n",
       "      <td>{'author': {'name': 'ta-data-pt-rmt', 'email':...</td>\n",
       "      <td>https://api.github.com/repos/ta-data-pt-rmt/la...</td>\n",
       "      <td>https://github.com/ta-data-pt-rmt/lab-mysql-fi...</td>\n",
       "      <td>https://api.github.com/repos/ta-data-pt-rmt/la...</td>\n",
       "      <td>{'login': 'ta-data-pt-rmt', 'id': 99891270, 'n...</td>\n",
       "      <td>{'login': 'web-flow', 'id': 19864447, 'node_id...</td>\n",
       "      <td>[]</td>\n",
       "    </tr>\n",
       "  </tbody>\n",
       "</table>\n",
       "</div>"
      ],
      "text/plain": [
       "                                        sha  \\\n",
       "0  b2fb48cfae83a8fed6b62b4bcbed7e31109ad035   \n",
       "1  0e1ba0f7d937f1a1c88f578f052803e193440c27   \n",
       "2  93b5ce69f2ce8dc6513e90bcbf672a1f14c944bd   \n",
       "\n",
       "                                             node_id  \\\n",
       "0  C_kwDOHB089NoAKGIyZmI0OGNmYWU4M2E4ZmVkNmI2MmI0...   \n",
       "1  C_kwDOHB089NoAKDBlMWJhMGY3ZDkzN2YxYTFjODhmNTc4...   \n",
       "2  C_kwDOHB089NoAKDkzYjVjZTY5ZjJjZThkYzY1MTNlOTBi...   \n",
       "\n",
       "                                              commit  \\\n",
       "0  {'author': {'name': 'ta-data-pt-rmt', 'email':...   \n",
       "1  {'author': {'name': 'ta-data-pt-rmt', 'email':...   \n",
       "2  {'author': {'name': 'ta-data-pt-rmt', 'email':...   \n",
       "\n",
       "                                                 url  \\\n",
       "0  https://api.github.com/repos/ta-data-pt-rmt/la...   \n",
       "1  https://api.github.com/repos/ta-data-pt-rmt/la...   \n",
       "2  https://api.github.com/repos/ta-data-pt-rmt/la...   \n",
       "\n",
       "                                            html_url  \\\n",
       "0  https://github.com/ta-data-pt-rmt/lab-mysql-fi...   \n",
       "1  https://github.com/ta-data-pt-rmt/lab-mysql-fi...   \n",
       "2  https://github.com/ta-data-pt-rmt/lab-mysql-fi...   \n",
       "\n",
       "                                        comments_url  \\\n",
       "0  https://api.github.com/repos/ta-data-pt-rmt/la...   \n",
       "1  https://api.github.com/repos/ta-data-pt-rmt/la...   \n",
       "2  https://api.github.com/repos/ta-data-pt-rmt/la...   \n",
       "\n",
       "                                              author  \\\n",
       "0  {'login': 'ta-data-pt-rmt', 'id': 99891270, 'n...   \n",
       "1  {'login': 'ta-data-pt-rmt', 'id': 99891270, 'n...   \n",
       "2  {'login': 'ta-data-pt-rmt', 'id': 99891270, 'n...   \n",
       "\n",
       "                                           committer  \\\n",
       "0  {'login': 'web-flow', 'id': 19864447, 'node_id...   \n",
       "1  {'login': 'web-flow', 'id': 19864447, 'node_id...   \n",
       "2  {'login': 'web-flow', 'id': 19864447, 'node_id...   \n",
       "\n",
       "                                             parents  \n",
       "0  [{'sha': '0e1ba0f7d937f1a1c88f578f052803e19344...  \n",
       "1  [{'sha': '93b5ce69f2ce8dc6513e90bcbf672a1f14c9...  \n",
       "2                                                 []  "
      ]
     },
     "execution_count": 9,
     "metadata": {},
     "output_type": "execute_result"
    }
   ],
   "source": [
    "# Create a dataframe starting from the .json file\n",
    "commits_data = pd.DataFrame.from_dict(commits)\n",
    "commits_data.head()"
   ]
  },
  {
   "cell_type": "code",
   "execution_count": 10,
   "id": "81f95f9b",
   "metadata": {
    "scrolled": false
   },
   "outputs": [
    {
     "data": {
      "text/html": [
       "<div>\n",
       "<style scoped>\n",
       "    .dataframe tbody tr th:only-of-type {\n",
       "        vertical-align: middle;\n",
       "    }\n",
       "\n",
       "    .dataframe tbody tr th {\n",
       "        vertical-align: top;\n",
       "    }\n",
       "\n",
       "    .dataframe thead th {\n",
       "        text-align: right;\n",
       "    }\n",
       "</style>\n",
       "<table border=\"1\" class=\"dataframe\">\n",
       "  <thead>\n",
       "    <tr style=\"text-align: right;\">\n",
       "      <th></th>\n",
       "      <th>message</th>\n",
       "      <th>url</th>\n",
       "      <th>comment_count</th>\n",
       "      <th>author.name</th>\n",
       "      <th>author.email</th>\n",
       "      <th>author.date</th>\n",
       "      <th>committer.name</th>\n",
       "      <th>committer.email</th>\n",
       "      <th>committer.date</th>\n",
       "      <th>tree.sha</th>\n",
       "      <th>tree.url</th>\n",
       "      <th>verification.verified</th>\n",
       "      <th>verification.reason</th>\n",
       "      <th>verification.signature</th>\n",
       "      <th>verification.payload</th>\n",
       "    </tr>\n",
       "  </thead>\n",
       "  <tbody>\n",
       "    <tr>\n",
       "      <th>0</th>\n",
       "      <td>Add files via upload\\n\\nalternative dataset, w...</td>\n",
       "      <td>https://api.github.com/repos/ta-data-pt-rmt/la...</td>\n",
       "      <td>0</td>\n",
       "      <td>ta-data-pt-rmt</td>\n",
       "      <td>99891270+ta-data-pt-rmt@users.noreply.github.com</td>\n",
       "      <td>2022-03-31T18:05:34Z</td>\n",
       "      <td>GitHub</td>\n",
       "      <td>noreply@github.com</td>\n",
       "      <td>2022-03-31T18:05:34Z</td>\n",
       "      <td>9a93890ad46c565f62d5406e4b97a0355e943611</td>\n",
       "      <td>https://api.github.com/repos/ta-data-pt-rmt/la...</td>\n",
       "      <td>True</td>\n",
       "      <td>valid</td>\n",
       "      <td>-----BEGIN PGP SIGNATURE-----\\n\\nwsBcBAABCAAQB...</td>\n",
       "      <td>tree 9a93890ad46c565f62d5406e4b97a0355e943611\\...</td>\n",
       "    </tr>\n",
       "    <tr>\n",
       "      <th>1</th>\n",
       "      <td>Update README.md</td>\n",
       "      <td>https://api.github.com/repos/ta-data-pt-rmt/la...</td>\n",
       "      <td>0</td>\n",
       "      <td>ta-data-pt-rmt</td>\n",
       "      <td>99891270+ta-data-pt-rmt@users.noreply.github.com</td>\n",
       "      <td>2022-03-31T18:04:49Z</td>\n",
       "      <td>GitHub</td>\n",
       "      <td>noreply@github.com</td>\n",
       "      <td>2022-03-31T18:04:49Z</td>\n",
       "      <td>3983444079670a5e4da2de74ba243f39a2b1fa5a</td>\n",
       "      <td>https://api.github.com/repos/ta-data-pt-rmt/la...</td>\n",
       "      <td>True</td>\n",
       "      <td>valid</td>\n",
       "      <td>-----BEGIN PGP SIGNATURE-----\\n\\nwsBcBAABCAAQB...</td>\n",
       "      <td>tree 3983444079670a5e4da2de74ba243f39a2b1fa5a\\...</td>\n",
       "    </tr>\n",
       "    <tr>\n",
       "      <th>2</th>\n",
       "      <td>Add files via upload</td>\n",
       "      <td>https://api.github.com/repos/ta-data-pt-rmt/la...</td>\n",
       "      <td>0</td>\n",
       "      <td>ta-data-pt-rmt</td>\n",
       "      <td>99891270+ta-data-pt-rmt@users.noreply.github.com</td>\n",
       "      <td>2022-03-19T11:41:30Z</td>\n",
       "      <td>GitHub</td>\n",
       "      <td>noreply@github.com</td>\n",
       "      <td>2022-03-19T11:41:30Z</td>\n",
       "      <td>9e05f39c9d63edc892fb92345ca541df48ca0d30</td>\n",
       "      <td>https://api.github.com/repos/ta-data-pt-rmt/la...</td>\n",
       "      <td>True</td>\n",
       "      <td>valid</td>\n",
       "      <td>-----BEGIN PGP SIGNATURE-----\\n\\nwsBcBAABCAAQB...</td>\n",
       "      <td>tree 9e05f39c9d63edc892fb92345ca541df48ca0d30\\...</td>\n",
       "    </tr>\n",
       "  </tbody>\n",
       "</table>\n",
       "</div>"
      ],
      "text/plain": [
       "                                             message  \\\n",
       "0  Add files via upload\\n\\nalternative dataset, w...   \n",
       "1                                   Update README.md   \n",
       "2                               Add files via upload   \n",
       "\n",
       "                                                 url  comment_count  \\\n",
       "0  https://api.github.com/repos/ta-data-pt-rmt/la...              0   \n",
       "1  https://api.github.com/repos/ta-data-pt-rmt/la...              0   \n",
       "2  https://api.github.com/repos/ta-data-pt-rmt/la...              0   \n",
       "\n",
       "      author.name                                      author.email  \\\n",
       "0  ta-data-pt-rmt  99891270+ta-data-pt-rmt@users.noreply.github.com   \n",
       "1  ta-data-pt-rmt  99891270+ta-data-pt-rmt@users.noreply.github.com   \n",
       "2  ta-data-pt-rmt  99891270+ta-data-pt-rmt@users.noreply.github.com   \n",
       "\n",
       "            author.date committer.name     committer.email  \\\n",
       "0  2022-03-31T18:05:34Z         GitHub  noreply@github.com   \n",
       "1  2022-03-31T18:04:49Z         GitHub  noreply@github.com   \n",
       "2  2022-03-19T11:41:30Z         GitHub  noreply@github.com   \n",
       "\n",
       "         committer.date                                  tree.sha  \\\n",
       "0  2022-03-31T18:05:34Z  9a93890ad46c565f62d5406e4b97a0355e943611   \n",
       "1  2022-03-31T18:04:49Z  3983444079670a5e4da2de74ba243f39a2b1fa5a   \n",
       "2  2022-03-19T11:41:30Z  9e05f39c9d63edc892fb92345ca541df48ca0d30   \n",
       "\n",
       "                                            tree.url  verification.verified  \\\n",
       "0  https://api.github.com/repos/ta-data-pt-rmt/la...                   True   \n",
       "1  https://api.github.com/repos/ta-data-pt-rmt/la...                   True   \n",
       "2  https://api.github.com/repos/ta-data-pt-rmt/la...                   True   \n",
       "\n",
       "  verification.reason                             verification.signature  \\\n",
       "0               valid  -----BEGIN PGP SIGNATURE-----\\n\\nwsBcBAABCAAQB...   \n",
       "1               valid  -----BEGIN PGP SIGNATURE-----\\n\\nwsBcBAABCAAQB...   \n",
       "2               valid  -----BEGIN PGP SIGNATURE-----\\n\\nwsBcBAABCAAQB...   \n",
       "\n",
       "                                verification.payload  \n",
       "0  tree 9a93890ad46c565f62d5406e4b97a0355e943611\\...  \n",
       "1  tree 3983444079670a5e4da2de74ba243f39a2b1fa5a\\...  \n",
       "2  tree 9e05f39c9d63edc892fb92345ca541df48ca0d30\\...  "
      ]
     },
     "execution_count": 10,
     "metadata": {},
     "output_type": "execute_result"
    }
   ],
   "source": [
    "# The information we are looking for, which is the date of the commit, is nested as a dictionary into the column 'commit',\n",
    "# in order to extract it we normalize that part of the dataset.\n",
    "commits_data = pd.json_normalize(commits_data['commit'])\n",
    "commits_data.head()"
   ]
  },
  {
   "cell_type": "code",
   "execution_count": 17,
   "id": "620f0d33",
   "metadata": {},
   "outputs": [],
   "source": [
    "three_weeks_ago = datetime.now() - timedelta(weeks=3)\n",
    "three_weeks_ago_str = three_weeks_ago.isoformat()"
   ]
  },
  {
   "cell_type": "code",
   "execution_count": 18,
   "id": "36be47d6",
   "metadata": {},
   "outputs": [],
   "source": [
    "commits_data['committer.date'] = pd.to_datetime(commits_data['committer.date'], format='%Y-%m-%dT%H:%M:%SZ')"
   ]
  },
  {
   "cell_type": "code",
   "execution_count": 19,
   "id": "bcd32e4c",
   "metadata": {},
   "outputs": [
    {
     "data": {
      "text/plain": [
       "0   2022-03-31 18:05:34\n",
       "1   2022-03-31 18:04:49\n",
       "2   2022-03-19 11:41:30\n",
       "Name: committer.date, dtype: datetime64[ns]"
      ]
     },
     "execution_count": 19,
     "metadata": {},
     "output_type": "execute_result"
    }
   ],
   "source": [
    "commits_data['committer.date']"
   ]
  },
  {
   "cell_type": "code",
   "execution_count": 20,
   "id": "2a891ec0",
   "metadata": {},
   "outputs": [],
   "source": [
    "# We create a variable for the date in the ISO 8601 format, and then create a 'for' loop to search for those commits within\n",
    "# the time frame\n",
    "recent_commits = commits_data[commits_data['committer.date'] >= three_weeks_ago_str]"
   ]
  },
  {
   "cell_type": "code",
   "execution_count": 23,
   "id": "a1792f33",
   "metadata": {},
   "outputs": [
    {
     "data": {
      "text/plain": [
       "0"
      ]
     },
     "execution_count": 23,
     "metadata": {},
     "output_type": "execute_result"
    }
   ],
   "source": [
    "len(recent_commits)"
   ]
  }
 ],
 "metadata": {
  "kernelspec": {
   "display_name": "Python 3 (ipykernel)",
   "language": "python",
   "name": "python3"
  },
  "language_info": {
   "codemirror_mode": {
    "name": "ipython",
    "version": 3
   },
   "file_extension": ".py",
   "mimetype": "text/x-python",
   "name": "python",
   "nbconvert_exporter": "python",
   "pygments_lexer": "ipython3",
   "version": "3.11.1"
  }
 },
 "nbformat": 4,
 "nbformat_minor": 5
}
