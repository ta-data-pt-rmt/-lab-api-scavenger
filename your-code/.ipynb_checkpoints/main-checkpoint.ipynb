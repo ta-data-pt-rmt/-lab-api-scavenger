{
 "cells": [
  {
   "cell_type": "markdown",
   "id": "2eaf369f",
   "metadata": {},
   "source": [
    "### Your lab resolution :"
   ]
  },
  {
   "cell_type": "raw",
   "id": "54635be0",
   "metadata": {},
   "source": [
    "1º Challengue:"
   ]
  },
  {
   "cell_type": "code",
   "execution_count": 24,
   "id": "6c94489a",
   "metadata": {},
   "outputs": [],
   "source": [
    "import requests\n",
    "import json"
   ]
  },
  {
   "cell_type": "raw",
   "id": "8d8d8aff",
   "metadata": {},
   "source": [
    "# We make this call to the GitHub API.\n",
    "\n",
    "$ curl --request GET \\\n",
    "> --url \"https://api.github.com/repos/ironhack-datalabs/bcn-feb-2019/forks\" \\\n",
    "> --header \"Accept: application/vnd.github+json\" \\\n",
    "> --header \"Authorization: Bearer YOUR TOKEN\" > data.json"
   ]
  },
  {
   "cell_type": "code",
   "execution_count": 25,
   "id": "3c6157de",
   "metadata": {},
   "outputs": [],
   "source": [
    "f = open('data_forks.json')\n",
    "languages = json.load(f)"
   ]
  },
  {
   "cell_type": "code",
   "execution_count": 28,
   "id": "f25aa48d",
   "metadata": {
    "scrolled": true
   },
   "outputs": [
    {
     "name": "stdout",
     "output_type": "stream",
     "text": [
      "[None, None, None, None, None, 'Jupyter Notebook']\n"
     ]
    }
   ],
   "source": [
    "lista_lan = []\n",
    "for dic in languages:\n",
    "    for k,v in dic.items():\n",
    "        if k == 'language' and v != \"\":\n",
    "            lista_lan.append(v)\n",
    "print(lista_lan)       "
   ]
  },
  {
   "cell_type": "markdown",
   "id": "5e6529b4",
   "metadata": {},
   "source": [
    "2º Challengue:"
   ]
  },
  {
   "cell_type": "markdown",
   "id": "a14b3cc9",
   "metadata": {},
   "source": [
    "$ curl request GET \\\n",
    "    url \"https://api.github.com/repos/ta-data-pt-rmt/lab-mysql-first-queries/issues?since=2022-09-14T00:00:00Z\" \\\n",
    "    header \"Accept: application/vnd.github+json\" \\\n",
    "    header \"Authorization: Bearer YOUR TOKEN\" > data2.json"
   ]
  },
  {
   "cell_type": "code",
   "execution_count": 41,
   "id": "6072ba4d",
   "metadata": {},
   "outputs": [],
   "source": [
    "j = open('data2.json')\n",
    "repos = json.load(j)"
   ]
  },
  {
   "cell_type": "code",
   "execution_count": 42,
   "id": "610c79db",
   "metadata": {},
   "outputs": [
    {
     "data": {
      "text/plain": [
       "16"
      ]
     },
     "execution_count": 42,
     "metadata": {},
     "output_type": "execute_result"
    }
   ],
   "source": [
    "import pandas as pd\n",
    "repos_data = pd.DataFrame.from_dict(repos)\n",
    "len(repos_data.index)"
   ]
  },
  {
   "cell_type": "code",
   "execution_count": null,
   "id": "2ab4d845",
   "metadata": {},
   "outputs": [],
   "source": []
  },
  {
   "cell_type": "code",
   "execution_count": null,
   "id": "a94ff771",
   "metadata": {},
   "outputs": [],
   "source": []
  },
  {
   "cell_type": "code",
   "execution_count": null,
   "id": "913bbc70",
   "metadata": {},
   "outputs": [],
   "source": []
  },
  {
   "cell_type": "code",
   "execution_count": null,
   "id": "68020918",
   "metadata": {},
   "outputs": [],
   "source": []
  },
  {
   "cell_type": "code",
   "execution_count": null,
   "id": "3984ec08",
   "metadata": {},
   "outputs": [],
   "source": []
  },
  {
   "cell_type": "code",
   "execution_count": null,
   "id": "333c9cca",
   "metadata": {},
   "outputs": [],
   "source": []
  }
 ],
 "metadata": {
  "kernelspec": {
   "display_name": "Python 3 (ipykernel)",
   "language": "python",
   "name": "python3"
  },
  "language_info": {
   "codemirror_mode": {
    "name": "ipython",
    "version": 3
   },
   "file_extension": ".py",
   "mimetype": "text/x-python",
   "name": "python",
   "nbconvert_exporter": "python",
   "pygments_lexer": "ipython3",
   "version": "3.7.13"
  }
 },
 "nbformat": 4,
 "nbformat_minor": 5
}
