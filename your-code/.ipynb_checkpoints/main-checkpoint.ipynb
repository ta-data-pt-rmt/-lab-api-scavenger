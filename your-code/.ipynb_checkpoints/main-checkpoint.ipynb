{
 "cells": [
  {
   "cell_type": "markdown",
   "id": "2eaf369f",
   "metadata": {},
   "source": [
    "### Your lab resolution :"
   ]
  },
  {
   "cell_type": "code",
   "execution_count": 26,
   "id": "6c94489a",
   "metadata": {},
   "outputs": [
    {
     "name": "stdout",
     "output_type": "stream",
     "text": [
      "Fork Languages: {'Jupyter Notebook', None}\n"
     ]
    }
   ],
   "source": [
    "import requests\n",
    "from pprint import pprint\n",
    "import pandas as pd\n",
    "\n",
    "#1: Fork Languages\n",
    "\n",
    "response = requests.get('https://api.github.com/repos/ironhack-datalabs/bcn-feb-2019/forks')\n",
    "data = response.json()\n",
    "fork = set([i['language'] for i in data])\n",
    "print(\"Fork Languages:\", fork)\n",
    "#GOD knows why I get an empty response! ;)"
   ]
  },
  {
   "cell_type": "code",
   "execution_count": null,
   "id": "77c47df8",
   "metadata": {},
   "outputs": [],
   "source": [
    "# Solution 2 for Challenge 1\n",
    "import requests\n",
    "import json\n",
    "\n",
    "# Direct call on GitBash\n",
    "\n",
    "$curl --request GET\\\n",
    "--url \"https://api.github.com/repos/ironhach-datalab/bcn-feb-2019/forks\" \\\n",
    "--header \"Accept: application/vnd.github+json\" \\\n",
    "--header \"Authorization: TOKEN\" >data.json\n",
    "\n",
    "file = open('data.json')\n",
    "languages = json.load(file)"
   ]
  },
  {
   "cell_type": "code",
   "execution_count": 28,
   "id": "4a90ab64",
   "metadata": {},
   "outputs": [
    {
     "name": "stdout",
     "output_type": "stream",
     "text": [
      "Count_Commit: 3\n"
     ]
    }
   ],
   "source": [
    "#2: Count Commit\n",
    "\n",
    "response = requests.get('https://api.github.com/repos/ta-data-pt-rmt/lab-mysql-first-queries/commits')\n",
    "data = response.json()\n",
    "data1 = pd.DataFrame.from_dict(data)\n",
    "count_commit = data1['commit'].notnull().sum()\n",
    "print(\"Count_Commit:\", count_commit)"
   ]
  }
 ],
 "metadata": {
  "kernelspec": {
   "display_name": "Python 3 (ipykernel)",
   "language": "python",
   "name": "python3"
  },
  "language_info": {
   "codemirror_mode": {
    "name": "ipython",
    "version": 3
   },
   "file_extension": ".py",
   "mimetype": "text/x-python",
   "name": "python",
   "nbconvert_exporter": "python",
   "pygments_lexer": "ipython3",
   "version": "3.9.12"
  }
 },
 "nbformat": 4,
 "nbformat_minor": 5
}
