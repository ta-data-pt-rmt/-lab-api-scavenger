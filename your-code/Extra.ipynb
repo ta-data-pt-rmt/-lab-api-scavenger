{
 "cells": [
  {
   "cell_type": "code",
   "execution_count": 8,
   "id": "813e56b4",
   "metadata": {},
   "outputs": [],
   "source": [
    "import requests\n",
    "import base64\n",
    "import json"
   ]
  },
  {
   "cell_type": "code",
   "execution_count": 11,
   "id": "bfec7288",
   "metadata": {},
   "outputs": [],
   "source": [
    "with open('config.json') as config_file:\n",
    "    config = json.load(config_file)\n",
    "    token = config['github_token']\n",
    "headers = {'Authorization': f'token {token}'}\n",
    "owner = 'guada-aguero'\n",
    "repo = 'test-repo'\n",
    "path = 'test1.txt'\n",
    "message = 'Creating test file'\n",
    "content = 'This is a test file.'\n"
   ]
  },
  {
   "cell_type": "code",
   "execution_count": 12,
   "id": "fc610b93",
   "metadata": {},
   "outputs": [
    {
     "name": "stdout",
     "output_type": "stream",
     "text": [
      "File created successfully.\n"
     ]
    }
   ],
   "source": [
    "# Encode the content to base64\n",
    "\n",
    "encoded_content = base64.b64encode(content.encode()).decode()\n",
    "\n",
    "# Create the file\n",
    "\n",
    "file_url = f'https://api.github.com/repos/{owner}/{repo}/contents/{path}'\n",
    "data = {\n",
    "    'message': message,\n",
    "    'content': encoded_content\n",
    "}\n",
    "\n",
    "response = requests.put(file_url, headers = headers, json = data)\n",
    "\n",
    "# Check if the response was successful\n",
    "\n",
    "if response.status_code in [200,201]:\n",
    "    print(\"File created successfully.\")\n",
    "else:\n",
    "    print(f\"Error: {response.status_code}\")\n",
    "    print(response.json())"
   ]
  },
  {
   "cell_type": "code",
   "execution_count": 13,
   "id": "eb9943b8",
   "metadata": {},
   "outputs": [
    {
     "data": {
      "text/plain": [
       "{'content': {'name': 'test1.txt',\n",
       "  'path': 'test1.txt',\n",
       "  'sha': 'af27ff4986a7bdb5c5150d972123bd50febb5267',\n",
       "  'size': 20,\n",
       "  'url': 'https://api.github.com/repos/guada-aguero/test-repo/contents/test1.txt?ref=main',\n",
       "  'html_url': 'https://github.com/guada-aguero/test-repo/blob/main/test1.txt',\n",
       "  'git_url': 'https://api.github.com/repos/guada-aguero/test-repo/git/blobs/af27ff4986a7bdb5c5150d972123bd50febb5267',\n",
       "  'download_url': 'https://raw.githubusercontent.com/guada-aguero/test-repo/main/test1.txt',\n",
       "  'type': 'file',\n",
       "  '_links': {'self': 'https://api.github.com/repos/guada-aguero/test-repo/contents/test1.txt?ref=main',\n",
       "   'git': 'https://api.github.com/repos/guada-aguero/test-repo/git/blobs/af27ff4986a7bdb5c5150d972123bd50febb5267',\n",
       "   'html': 'https://github.com/guada-aguero/test-repo/blob/main/test1.txt'}},\n",
       " 'commit': {'sha': '8045e32861675fbfdfb32483e0b49cf833a76a26',\n",
       "  'node_id': 'C_kwDOMEbosNoAKDgwNDVlMzI4NjE2NzVmYmZkZmIzMjQ4M2UwYjQ5Y2Y4MzNhNzZhMjY',\n",
       "  'url': 'https://api.github.com/repos/guada-aguero/test-repo/git/commits/8045e32861675fbfdfb32483e0b49cf833a76a26',\n",
       "  'html_url': 'https://github.com/guada-aguero/test-repo/commit/8045e32861675fbfdfb32483e0b49cf833a76a26',\n",
       "  'author': {'name': 'guada-aguero',\n",
       "   'email': '83315233+guada-aguero@users.noreply.github.com',\n",
       "   'date': '2024-06-03T19:43:03Z'},\n",
       "  'committer': {'name': 'guada-aguero',\n",
       "   'email': '83315233+guada-aguero@users.noreply.github.com',\n",
       "   'date': '2024-06-03T19:43:03Z'},\n",
       "  'tree': {'sha': '66933da5ba83d1ed3cb52b444a691dc17c471538',\n",
       "   'url': 'https://api.github.com/repos/guada-aguero/test-repo/git/trees/66933da5ba83d1ed3cb52b444a691dc17c471538'},\n",
       "  'message': 'Creating test file',\n",
       "  'parents': [{'sha': '5b6bf2767b6d98fb83062ef4f42bb43f5a1860c2',\n",
       "    'url': 'https://api.github.com/repos/guada-aguero/test-repo/git/commits/5b6bf2767b6d98fb83062ef4f42bb43f5a1860c2',\n",
       "    'html_url': 'https://github.com/guada-aguero/test-repo/commit/5b6bf2767b6d98fb83062ef4f42bb43f5a1860c2'}],\n",
       "  'verification': {'verified': False,\n",
       "   'reason': 'unsigned',\n",
       "   'signature': None,\n",
       "   'payload': None}}}"
      ]
     },
     "execution_count": 13,
     "metadata": {},
     "output_type": "execute_result"
    }
   ],
   "source": [
    "response.json()"
   ]
  },
  {
   "cell_type": "code",
   "execution_count": null,
   "id": "7f034570",
   "metadata": {},
   "outputs": [],
   "source": []
  }
 ],
 "metadata": {
  "kernelspec": {
   "display_name": "Python 3 (ipykernel)",
   "language": "python",
   "name": "python3"
  },
  "language_info": {
   "codemirror_mode": {
    "name": "ipython",
    "version": 3
   },
   "file_extension": ".py",
   "mimetype": "text/x-python",
   "name": "python",
   "nbconvert_exporter": "python",
   "pygments_lexer": "ipython3",
   "version": "3.11.7"
  }
 },
 "nbformat": 4,
 "nbformat_minor": 5
}
