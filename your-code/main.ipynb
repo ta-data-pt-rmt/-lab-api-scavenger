{
 "cells": [
  {
   "cell_type": "code",
   "execution_count": null,
   "id": "b4dd695b",
   "metadata": {},
   "outputs": [],
   "source": [
    "# Challenge 1: Fork Languages"
   ]
  },
  {
   "cell_type": "code",
   "execution_count": 1,
   "id": "5304002b",
   "metadata": {},
   "outputs": [],
   "source": [
    "import requests "
   ]
  },
  {
   "cell_type": "code",
   "execution_count": 20,
   "id": "5d9420a7",
   "metadata": {},
   "outputs": [
    {
     "name": "stdout",
     "output_type": "stream",
     "text": [
      "Languages for fork TMeesters/-lab-api-scavenger: ['Jupyter Notebook']\n",
      "Languages for fork TMeesters/Descriptive-Stats: ['Jupyter Notebook']\n",
      "Languages for fork TMeesters/lab-advanced-pandas: ['Jupyter Notebook']\n",
      "Languages for fork TMeesters/lab-bash: []\n",
      "Languages for fork TMeesters/lab-data-cleaning: ['Jupyter Notebook']\n",
      "Languages for fork TMeesters/lab-dataframe-calculations: ['Jupyter Notebook']\n",
      "Languages for fork TMeesters/lab-dw-data-cleaning-and-formatting: ['Jupyter Notebook']\n",
      "Languages for fork TMeesters/lab-dw-pandas: ['Jupyter Notebook']\n",
      "Languages for fork TMeesters/lab-git: ['Jupyter Notebook']\n",
      "Languages for fork TMeesters/lab-import-export: ['Jupyter Notebook']\n",
      "Languages for fork TMeesters/lab-intro-pandas: ['Jupyter Notebook']\n",
      "Languages for fork TMeesters/lab-lambda-functions: ['Jupyter Notebook']\n",
      "Languages for fork TMeesters/lab-list-comprehensions: ['Jupyter Notebook']\n",
      "Languages for fork TMeesters/lab-matplotlib-seaborn: ['Jupyter Notebook']\n",
      "Languages for fork TMeesters/lab-mysql: []\n",
      "Languages for fork TMeesters/lab-mysql-first-queries: []\n",
      "Languages for fork TMeesters/lab-mysql-select: []\n",
      "Languages for fork TMeesters/lab-regression-analysis: ['Jupyter Notebook']\n",
      "Languages for fork TMeesters/lab-string-operations: ['Jupyter Notebook']\n",
      "Languages for fork TMeesters/lab-tuple-set-dict: ['Jupyter Notebook']\n",
      "Languages for fork TMeesters/lab-web-scraping: ['Jupyter Notebook']\n",
      "Languages for fork TMeesters/learngit: ['Python']\n",
      "Languages for fork TMeesters/project-fifa-moneyball: ['Jupyter Notebook']\n",
      "Languages for fork TMeesters/project-webscraping-apis: ['Jupyter Notebook', 'HTML']\n",
      "Languages for fork TMeesters/python-project: ['Jupyter Notebook', 'HTML']\n",
      "Languages for fork TMeesters/SQL-Project: ['Jupyter Notebook', 'HTML']\n",
      "Languages for fork TMeesters/SQL-Project-Team-files-sharing-: []\n",
      "Languages for fork TMeesters/studeren: ['Python']\n",
      "Languages for fork TMeesters/subsetting-and-descriptive-stats: ['Jupyter Notebook']\n"
     ]
    }
   ],
   "source": [
    "\n",
    "from urllib.parse import urlparse\n",
    "\n",
    "def get_fork_languages(repo_url):\n",
    " \n",
    "    parsed_url = urlparse(repo_url)\n",
    "    username = parsed_url.path.split('/')[1]\n",
    "\n",
    "    \n",
    "    forks_url = f\"https://api.github.com/users/{username}/repos\"\n",
    "    \n",
    "    response = requests.get(forks_url)\n",
    "    repositories = response.json()\n",
    "\n",
    "    if not repositories:\n",
    "        print(f\"No repositories found for {username}\")\n",
    "        return\n",
    "\n",
    "    languages = set()\n",
    "    \n",
    "    for repo in repositories:\n",
    "        repo_name = repo.get('name')\n",
    "        fork_languages = get_repository_languages(username, repo_name)\n",
    "        \n",
    "        print(f\"Languages for fork {username}/{repo_name}: {fork_languages}\")\n",
    "\n",
    "def get_repository_languages(username, repo):\n",
    "    api_url = f\"https://api.github.com/repos/{username}/{repo}/languages\"\n",
    "    \n",
    "    response = requests.get(api_url)\n",
    "    languages = response.json()\n",
    "\n",
    "    return list(languages.keys())\n",
    "\n",
    "github_profile_url = \"https://github.com/TMeesters?tab=repositories\"\n",
    "\n",
    "\n",
    "get_fork_languages(github_profile_url)\n"
   ]
  },
  {
   "cell_type": "code",
   "execution_count": null,
   "id": "e9e62e77",
   "metadata": {},
   "outputs": [],
   "source": [
    "# Challenge 2: Count Commits"
   ]
  },
  {
   "cell_type": "code",
   "execution_count": 7,
   "id": "a19925c1",
   "metadata": {},
   "outputs": [
    {
     "name": "stdout",
     "output_type": "stream",
     "text": [
      "Number of commits by TMeesters in the last 3 weeks: 15\n"
     ]
    }
   ],
   "source": [
    "import requests\n",
    "from datetime import datetime, timedelta\n",
    "\n",
    "def count_commits_in_last_weeks_for_user(username, weeks=3):\n",
    "    events_url = f\"https://api.github.com/users/{username}/events\"\n",
    "    \n",
    "    try:\n",
    "        # Make the API request\n",
    "        response = requests.get(events_url)\n",
    "        response.raise_for_status()\n",
    "        events = response.json()\n",
    "    except requests.exceptions.RequestException as e:\n",
    "        print(f\"Error: {e}\")\n",
    "        return\n",
    "\n",
    "    three_weeks_ago = datetime.now() - timedelta(weeks=weeks)\n",
    "\n",
    "    commit_count = 0\n",
    "\n",
    "    for event in events:\n",
    "        if event.get('type') == 'PushEvent': \n",
    "            event_date = datetime.strptime(event['created_at'], \"%Y-%m-%dT%H:%M:%SZ\")\n",
    "            if event_date >= three_weeks_ago:\n",
    "                commit_count += len(event['payload']['commits'])\n",
    "\n",
    "    print(f\"Number of commits by {username} in the last {weeks} weeks: {commit_count}\")\n",
    "\n",
    "github_username = \"TMeesters\"\n",
    "\n",
    "count_commits_in_last_weeks_for_user(github_username, weeks=3)\n"
   ]
  },
  {
   "cell_type": "code",
   "execution_count": null,
   "id": "e21f9478",
   "metadata": {},
   "outputs": [],
   "source": []
  }
 ],
 "metadata": {
  "kernelspec": {
   "display_name": "Python 3 (ipykernel)",
   "language": "python",
   "name": "python3"
  },
  "language_info": {
   "codemirror_mode": {
    "name": "ipython",
    "version": 3
   },
   "file_extension": ".py",
   "mimetype": "text/x-python",
   "name": "python",
   "nbconvert_exporter": "python",
   "pygments_lexer": "ipython3",
   "version": "3.9.13"
  }
 },
 "nbformat": 4,
 "nbformat_minor": 5
}
