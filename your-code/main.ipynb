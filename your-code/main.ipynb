{
 "cells": [
  {
   "cell_type": "markdown",
   "id": "2eaf369f",
   "metadata": {},
   "source": [
    "### Your lab resolution :"
   ]
  },
  {
   "cell_type": "markdown",
   "id": "7a87fc0d",
   "metadata": {},
   "source": [
    "# Challenge 1: Fork Languages"
   ]
  },
  {
   "cell_type": "code",
   "execution_count": 80,
   "id": "71a9810a",
   "metadata": {},
   "outputs": [],
   "source": [
    "import requests\n",
    "import pandas as pd"
   ]
  },
  {
   "cell_type": "code",
   "execution_count": 81,
   "id": "acbcb899",
   "metadata": {},
   "outputs": [
    {
     "data": {
      "text/plain": [
       "200"
      ]
     },
     "execution_count": 81,
     "metadata": {},
     "output_type": "execute_result"
    }
   ],
   "source": [
    "url = 'https://api.github.com/repos/ironhack-datalabs/bcn-feb-2019/forks'\n",
    "response = requests.get(url)\n",
    "response.status_code"
   ]
  },
  {
   "cell_type": "code",
   "execution_count": 82,
   "metadata": {},
   "outputs": [
    {
     "name": "stdout",
     "output_type": "stream",
     "text": [
      "{'Python', 'HTML', 'Jupyter Notebook'}\n"
     ]
    }
   ],
   "source": [
    "languages = set()\n",
    "forks = response.json()\n",
    "\n",
    "for fork in forks:\n",
    "    language_response = requests.get(fork['languages_url'])\n",
    "    for key in list(language_response.json().keys()):\n",
    "        languages.add(key)\n",
    "print(languages)\n",
    "\n",
    "\n"
   ]
  },
  {
   "cell_type": "markdown",
   "id": "c84c7d20",
   "metadata": {},
   "source": [
    "# Challenge 2: Count Commits"
   ]
  },
  {
   "cell_type": "code",
   "execution_count": 83,
   "id": "4a515548",
   "metadata": {},
   "outputs": [
    {
     "data": {
      "text/plain": [
       "200"
      ]
     },
     "execution_count": 83,
     "metadata": {},
     "output_type": "execute_result"
    }
   ],
   "source": [
    "url = 'https://api.github.com/repos/ta-data-pt-rmt/lab-mysql-first-queries/pulls'\n",
    "response = requests.get(url)\n",
    "response.status_code"
   ]
  },
  {
   "cell_type": "code",
   "execution_count": 84,
   "id": "57d24d06",
   "metadata": {},
   "outputs": [
    {
     "name": "stdout",
     "output_type": "stream",
     "text": [
      "10\n"
     ]
    }
   ],
   "source": [
    "from datetime import datetime, timedelta\n",
    "pulls = response.json()\n",
    "count = 0\n",
    "for pull in pulls:\n",
    "    commit_response = (requests.get(pull['commits_url'])).json()\n",
    "    for commit in commit_response:\n",
    "        date_string = commit['commit']['author']['date']\n",
    "        given_date = datetime.strptime(date_string, \"%Y-%m-%dT%H:%M:%SZ\")\n",
    "        # Calculate the date 3 weeks ago from the current date\n",
    "        three_weeks_ago = datetime.utcnow() - timedelta(weeks=3)\n",
    "        # Compare the given date with the date 3 weeks ago\n",
    "        if given_date > three_weeks_ago:\n",
    "            count += 1\n",
    "print(count)\n",
    "\n"
   ]
  }
 ],
 "metadata": {
  "kernelspec": {
   "display_name": "Python 3",
   "language": "python",
   "name": "python3"
  },
  "language_info": {
   "codemirror_mode": {
    "name": "ipython",
    "version": 3
   },
   "file_extension": ".py",
   "mimetype": "text/x-python",
   "name": "python",
   "nbconvert_exporter": "python",
   "pygments_lexer": "ipython3",
   "version": "3.11.4"
  }
 },
 "nbformat": 4,
 "nbformat_minor": 5
}
