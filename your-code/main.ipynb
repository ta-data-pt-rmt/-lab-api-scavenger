{
 "cells": [
  {
   "cell_type": "markdown",
   "id": "2eaf369f",
   "metadata": {},
   "source": [
    "### Your lab resolution :"
   ]
  },
  {
   "cell_type": "code",
   "execution_count": 101,
   "id": "6c94489a",
   "metadata": {},
   "outputs": [],
   "source": [
    "import requests\n",
    "import json\n",
    "from dotenv import load_dotenv\n",
    "import os\n",
    "load_dotenv()\n",
    "from datetime import datetime, timedelta\n",
    "import pandas as pd"
   ]
  },
  {
   "cell_type": "code",
   "execution_count": null,
   "id": "0d5e7310",
   "metadata": {},
   "outputs": [],
   "source": [
    "json_file_path = 'output.json'"
   ]
  },
  {
   "cell_type": "code",
   "execution_count": 80,
   "id": "77c7482e",
   "metadata": {},
   "outputs": [],
   "source": [
    "token = os.getenv(\"token\")"
   ]
  },
  {
   "cell_type": "code",
   "execution_count": 25,
   "id": "46c9c754",
   "metadata": {},
   "outputs": [
    {
     "name": "stdout",
     "output_type": "stream",
     "text": [
      "[{'id': 561512398, 'node_id': 'R_kgDOIXf_zg', 'name': 'bcn-feb-2019', 'full_name': 'fgardete/bcn-feb-2019', 'private': False, 'owner': {'login': 'fgardete', 'id': 87324421, 'node_id': 'MDQ6VXNlcjg3MzI0NDIx', 'avatar_url': 'https://avatars.githubusercontent.com/u/87324421?v=4', 'gravatar_id': '', 'url': 'https://api.github.com/users/fgardete', 'html_url': 'https://github.com/fgardete', 'followers_url': 'https://api.github.com/users/fgardete/followers', 'following_url': 'https://api.github.com/users/fgardete/following{/other_user}', 'gists_url': 'https://api.github.com/users/fgardete/gists{/gist_id}', 'starred_url': 'https://api.github.com/users/fgardete/starred{/owner}{/repo}', 'subscriptions_url': 'https://api.github.com/users/fgardete/subscriptions', 'organizations_url': 'https://api.github.com/users/fgardete/orgs', 'repos_url': 'https://api.github.com/users/fgardete/repos', 'events_url': 'https://api.github.com/users/fgardete/events{/privacy}', 'received_events_url': 'https://api.github.com/users/fgardete/received_events', 'type': 'User', 'site_admin': False}, 'html_url': 'https://github.com/fgardete/bcn-feb-2019', 'description': None, 'fork': True, 'url': 'https://api.github.com/repos/fgardete/bcn-feb-2019', 'forks_url': 'https://api.github.com/repos/fgardete/bcn-feb-2019/forks', 'keys_url': 'https://api.github.com/repos/fgardete/bcn-feb-2019/keys{/key_id}', 'collaborators_url': 'https://api.github.com/repos/fgardete/bcn-feb-2019/collaborators{/collaborator}', 'teams_url': 'https://api.github.com/repos/fgardete/bcn-feb-2019/teams', 'hooks_url': 'https://api.github.com/repos/fgardete/bcn-feb-2019/hooks', 'issue_events_url': 'https://api.github.com/repos/fgardete/bcn-feb-2019/issues/events{/number}', 'events_url': 'https://api.github.com/repos/fgardete/bcn-feb-2019/events', 'assignees_url': 'https://api.github.com/repos/fgardete/bcn-feb-2019/assignees{/user}', 'branches_url': 'https://api.github.com/repos/fgardete/bcn-feb-2019/branches{/branch}', 'tags_url': 'https://api.github.com/repos/fgardete/bcn-feb-2019/tags', 'blobs_url': 'https://api.github.com/repos/fgardete/bcn-feb-2019/git/blobs{/sha}', 'git_tags_url': 'https://api.github.com/repos/fgardete/bcn-feb-2019/git/tags{/sha}', 'git_refs_url': 'https://api.github.com/repos/fgardete/bcn-feb-2019/git/refs{/sha}', 'trees_url': 'https://api.github.com/repos/fgardete/bcn-feb-2019/git/trees{/sha}', 'statuses_url': 'https://api.github.com/repos/fgardete/bcn-feb-2019/statuses/{sha}', 'languages_url': 'https://api.github.com/repos/fgardete/bcn-feb-2019/languages', 'stargazers_url': 'https://api.github.com/repos/fgardete/bcn-feb-2019/stargazers', 'contributors_url': 'https://api.github.com/repos/fgardete/bcn-feb-2019/contributors', 'subscribers_url': 'https://api.github.com/repos/fgardete/bcn-feb-2019/subscribers', 'subscription_url': 'https://api.github.com/repos/fgardete/bcn-feb-2019/subscription', 'commits_url': 'https://api.github.com/repos/fgardete/bcn-feb-2019/commits{/sha}', 'git_commits_url': 'https://api.github.com/repos/fgardete/bcn-feb-2019/git/commits{/sha}', 'comments_url': 'https://api.github.com/repos/fgardete/bcn-feb-2019/comments{/number}', 'issue_comment_url': 'https://api.github.com/repos/fgardete/bcn-feb-2019/issues/comments{/number}', 'contents_url': 'https://api.github.com/repos/fgardete/bcn-feb-2019/contents/{+path}', 'compare_url': 'https://api.github.com/repos/fgardete/bcn-feb-2019/compare/{base}...{head}', 'merges_url': 'https://api.github.com/repos/fgardete/bcn-feb-2019/merges', 'archive_url': 'https://api.github.com/repos/fgardete/bcn-feb-2019/{archive_format}{/ref}', 'downloads_url': 'https://api.github.com/repos/fgardete/bcn-feb-2019/downloads', 'issues_url': 'https://api.github.com/repos/fgardete/bcn-feb-2019/issues{/number}', 'pulls_url': 'https://api.github.com/repos/fgardete/bcn-feb-2019/pulls{/number}', 'milestones_url': 'https://api.github.com/repos/fgardete/bcn-feb-2019/milestones{/number}', 'notifications_url': 'https://api.github.com/repos/fgardete/bcn-feb-2019/notifications{?since,all,participating}', 'labels_url': 'https://api.github.com/repos/fgardete/bcn-feb-2019/labels{/name}', 'releases_url': 'https://api.github.com/repos/fgardete/bcn-feb-2019/releases{/id}', 'deployments_url': 'https://api.github.com/repos/fgardete/bcn-feb-2019/deployments', 'created_at': '2022-11-03T21:17:18Z', 'updated_at': '2019-05-23T15:59:32Z', 'pushed_at': '2019-02-18T22:33:04Z', 'git_url': 'git://github.com/fgardete/bcn-feb-2019.git', 'ssh_url': 'git@github.com:fgardete/bcn-feb-2019.git', 'clone_url': 'https://github.com/fgardete/bcn-feb-2019.git', 'svn_url': 'https://github.com/fgardete/bcn-feb-2019', 'homepage': None, 'size': 163749, 'stargazers_count': 0, 'watchers_count': 0, 'language': None, 'has_issues': False, 'has_projects': True, 'has_downloads': True, 'has_wiki': True, 'has_pages': False, 'has_discussions': False, 'forks_count': 0, 'mirror_url': None, 'archived': False, 'disabled': False, 'open_issues_count': 0, 'license': {'key': 'agpl-3.0', 'name': 'GNU Affero General Public License v3.0', 'spdx_id': 'AGPL-3.0', 'url': 'https://api.github.com/licenses/agpl-3.0', 'node_id': 'MDc6TGljZW5zZTE='}, 'allow_forking': True, 'is_template': False, 'web_commit_signoff_required': False, 'topics': [], 'visibility': 'public', 'forks': 0, 'open_issues': 0, 'watchers': 0, 'default_branch': 'master', 'permissions': {'admin': False, 'maintain': False, 'push': False, 'triage': False, 'pull': True}}, {'id': 425239153, 'node_id': 'R_kgDOGViicQ', 'name': 'bcn-feb-2019', 'full_name': 'StanRocha/bcn-feb-2019', 'private': False, 'owner': {'login': 'StanRocha', 'id': 87268484, 'node_id': 'MDQ6VXNlcjg3MjY4NDg0', 'avatar_url': 'https://avatars.githubusercontent.com/u/87268484?v=4', 'gravatar_id': '', 'url': 'https://api.github.com/users/StanRocha', 'html_url': 'https://github.com/StanRocha', 'followers_url': 'https://api.github.com/users/StanRocha/followers', 'following_url': 'https://api.github.com/users/StanRocha/following{/other_user}', 'gists_url': 'https://api.github.com/users/StanRocha/gists{/gist_id}', 'starred_url': 'https://api.github.com/users/StanRocha/starred{/owner}{/repo}', 'subscriptions_url': 'https://api.github.com/users/StanRocha/subscriptions', 'organizations_url': 'https://api.github.com/users/StanRocha/orgs', 'repos_url': 'https://api.github.com/users/StanRocha/repos', 'events_url': 'https://api.github.com/users/StanRocha/events{/privacy}', 'received_events_url': 'https://api.github.com/users/StanRocha/received_events', 'type': 'User', 'site_admin': False}, 'html_url': 'https://github.com/StanRocha/bcn-feb-2019', 'description': None, 'fork': True, 'url': 'https://api.github.com/repos/StanRocha/bcn-feb-2019', 'forks_url': 'https://api.github.com/repos/StanRocha/bcn-feb-2019/forks', 'keys_url': 'https://api.github.com/repos/StanRocha/bcn-feb-2019/keys{/key_id}', 'collaborators_url': 'https://api.github.com/repos/StanRocha/bcn-feb-2019/collaborators{/collaborator}', 'teams_url': 'https://api.github.com/repos/StanRocha/bcn-feb-2019/teams', 'hooks_url': 'https://api.github.com/repos/StanRocha/bcn-feb-2019/hooks', 'issue_events_url': 'https://api.github.com/repos/StanRocha/bcn-feb-2019/issues/events{/number}', 'events_url': 'https://api.github.com/repos/StanRocha/bcn-feb-2019/events', 'assignees_url': 'https://api.github.com/repos/StanRocha/bcn-feb-2019/assignees{/user}', 'branches_url': 'https://api.github.com/repos/StanRocha/bcn-feb-2019/branches{/branch}', 'tags_url': 'https://api.github.com/repos/StanRocha/bcn-feb-2019/tags', 'blobs_url': 'https://api.github.com/repos/StanRocha/bcn-feb-2019/git/blobs{/sha}', 'git_tags_url': 'https://api.github.com/repos/StanRocha/bcn-feb-2019/git/tags{/sha}', 'git_refs_url': 'https://api.github.com/repos/StanRocha/bcn-feb-2019/git/refs{/sha}', 'trees_url': 'https://api.github.com/repos/StanRocha/bcn-feb-2019/git/trees{/sha}', 'statuses_url': 'https://api.github.com/repos/StanRocha/bcn-feb-2019/statuses/{sha}', 'languages_url': 'https://api.github.com/repos/StanRocha/bcn-feb-2019/languages', 'stargazers_url': 'https://api.github.com/repos/StanRocha/bcn-feb-2019/stargazers', 'contributors_url': 'https://api.github.com/repos/StanRocha/bcn-feb-2019/contributors', 'subscribers_url': 'https://api.github.com/repos/StanRocha/bcn-feb-2019/subscribers', 'subscription_url': 'https://api.github.com/repos/StanRocha/bcn-feb-2019/subscription', 'commits_url': 'https://api.github.com/repos/StanRocha/bcn-feb-2019/commits{/sha}', 'git_commits_url': 'https://api.github.com/repos/StanRocha/bcn-feb-2019/git/commits{/sha}', 'comments_url': 'https://api.github.com/repos/StanRocha/bcn-feb-2019/comments{/number}', 'issue_comment_url': 'https://api.github.com/repos/StanRocha/bcn-feb-2019/issues/comments{/number}', 'contents_url': 'https://api.github.com/repos/StanRocha/bcn-feb-2019/contents/{+path}', 'compare_url': 'https://api.github.com/repos/StanRocha/bcn-feb-2019/compare/{base}...{head}', 'merges_url': 'https://api.github.com/repos/StanRocha/bcn-feb-2019/merges', 'archive_url': 'https://api.github.com/repos/StanRocha/bcn-feb-2019/{archive_format}{/ref}', 'downloads_url': 'https://api.github.com/repos/StanRocha/bcn-feb-2019/downloads', 'issues_url': 'https://api.github.com/repos/StanRocha/bcn-feb-2019/issues{/number}', 'pulls_url': 'https://api.github.com/repos/StanRocha/bcn-feb-2019/pulls{/number}', 'milestones_url': 'https://api.github.com/repos/StanRocha/bcn-feb-2019/milestones{/number}', 'notifications_url': 'https://api.github.com/repos/StanRocha/bcn-feb-2019/notifications{?since,all,participating}', 'labels_url': 'https://api.github.com/repos/StanRocha/bcn-feb-2019/labels{/name}', 'releases_url': 'https://api.github.com/repos/StanRocha/bcn-feb-2019/releases{/id}', 'deployments_url': 'https://api.github.com/repos/StanRocha/bcn-feb-2019/deployments', 'created_at': '2021-11-06T12:31:11Z', 'updated_at': '2021-11-06T12:31:12Z', 'pushed_at': '2019-02-18T22:33:04Z', 'git_url': 'git://github.com/StanRocha/bcn-feb-2019.git', 'ssh_url': 'git@github.com:StanRocha/bcn-feb-2019.git', 'clone_url': 'https://github.com/StanRocha/bcn-feb-2019.git', 'svn_url': 'https://github.com/StanRocha/bcn-feb-2019', 'homepage': None, 'size': 163749, 'stargazers_count': 0, 'watchers_count': 0, 'language': None, 'has_issues': False, 'has_projects': True, 'has_downloads': True, 'has_wiki': True, 'has_pages': False, 'has_discussions': False, 'forks_count': 0, 'mirror_url': None, 'archived': False, 'disabled': False, 'open_issues_count': 0, 'license': {'key': 'agpl-3.0', 'name': 'GNU Affero General Public License v3.0', 'spdx_id': 'AGPL-3.0', 'url': 'https://api.github.com/licenses/agpl-3.0', 'node_id': 'MDc6TGljZW5zZTE='}, 'allow_forking': True, 'is_template': False, 'web_commit_signoff_required': False, 'topics': [], 'visibility': 'public', 'forks': 0, 'open_issues': 0, 'watchers': 0, 'default_branch': 'master', 'permissions': {'admin': False, 'maintain': False, 'push': False, 'triage': False, 'pull': True}}, {'id': 332775885, 'node_id': 'MDEwOlJlcG9zaXRvcnkzMzI3NzU4ODU=', 'name': 'bcn-feb-2019', 'full_name': 'MRibas123/bcn-feb-2019', 'private': False, 'owner': {'login': 'MRibas123', 'id': 76017312, 'node_id': 'MDQ6VXNlcjc2MDE3MzEy', 'avatar_url': 'https://avatars.githubusercontent.com/u/76017312?v=4', 'gravatar_id': '', 'url': 'https://api.github.com/users/MRibas123', 'html_url': 'https://github.com/MRibas123', 'followers_url': 'https://api.github.com/users/MRibas123/followers', 'following_url': 'https://api.github.com/users/MRibas123/following{/other_user}', 'gists_url': 'https://api.github.com/users/MRibas123/gists{/gist_id}', 'starred_url': 'https://api.github.com/users/MRibas123/starred{/owner}{/repo}', 'subscriptions_url': 'https://api.github.com/users/MRibas123/subscriptions', 'organizations_url': 'https://api.github.com/users/MRibas123/orgs', 'repos_url': 'https://api.github.com/users/MRibas123/repos', 'events_url': 'https://api.github.com/users/MRibas123/events{/privacy}', 'received_events_url': 'https://api.github.com/users/MRibas123/received_events', 'type': 'User', 'site_admin': False}, 'html_url': 'https://github.com/MRibas123/bcn-feb-2019', 'description': None, 'fork': True, 'url': 'https://api.github.com/repos/MRibas123/bcn-feb-2019', 'forks_url': 'https://api.github.com/repos/MRibas123/bcn-feb-2019/forks', 'keys_url': 'https://api.github.com/repos/MRibas123/bcn-feb-2019/keys{/key_id}', 'collaborators_url': 'https://api.github.com/repos/MRibas123/bcn-feb-2019/collaborators{/collaborator}', 'teams_url': 'https://api.github.com/repos/MRibas123/bcn-feb-2019/teams', 'hooks_url': 'https://api.github.com/repos/MRibas123/bcn-feb-2019/hooks', 'issue_events_url': 'https://api.github.com/repos/MRibas123/bcn-feb-2019/issues/events{/number}', 'events_url': 'https://api.github.com/repos/MRibas123/bcn-feb-2019/events', 'assignees_url': 'https://api.github.com/repos/MRibas123/bcn-feb-2019/assignees{/user}', 'branches_url': 'https://api.github.com/repos/MRibas123/bcn-feb-2019/branches{/branch}', 'tags_url': 'https://api.github.com/repos/MRibas123/bcn-feb-2019/tags', 'blobs_url': 'https://api.github.com/repos/MRibas123/bcn-feb-2019/git/blobs{/sha}', 'git_tags_url': 'https://api.github.com/repos/MRibas123/bcn-feb-2019/git/tags{/sha}', 'git_refs_url': 'https://api.github.com/repos/MRibas123/bcn-feb-2019/git/refs{/sha}', 'trees_url': 'https://api.github.com/repos/MRibas123/bcn-feb-2019/git/trees{/sha}', 'statuses_url': 'https://api.github.com/repos/MRibas123/bcn-feb-2019/statuses/{sha}', 'languages_url': 'https://api.github.com/repos/MRibas123/bcn-feb-2019/languages', 'stargazers_url': 'https://api.github.com/repos/MRibas123/bcn-feb-2019/stargazers', 'contributors_url': 'https://api.github.com/repos/MRibas123/bcn-feb-2019/contributors', 'subscribers_url': 'https://api.github.com/repos/MRibas123/bcn-feb-2019/subscribers', 'subscription_url': 'https://api.github.com/repos/MRibas123/bcn-feb-2019/subscription', 'commits_url': 'https://api.github.com/repos/MRibas123/bcn-feb-2019/commits{/sha}', 'git_commits_url': 'https://api.github.com/repos/MRibas123/bcn-feb-2019/git/commits{/sha}', 'comments_url': 'https://api.github.com/repos/MRibas123/bcn-feb-2019/comments{/number}', 'issue_comment_url': 'https://api.github.com/repos/MRibas123/bcn-feb-2019/issues/comments{/number}', 'contents_url': 'https://api.github.com/repos/MRibas123/bcn-feb-2019/contents/{+path}', 'compare_url': 'https://api.github.com/repos/MRibas123/bcn-feb-2019/compare/{base}...{head}', 'merges_url': 'https://api.github.com/repos/MRibas123/bcn-feb-2019/merges', 'archive_url': 'https://api.github.com/repos/MRibas123/bcn-feb-2019/{archive_format}{/ref}', 'downloads_url': 'https://api.github.com/repos/MRibas123/bcn-feb-2019/downloads', 'issues_url': 'https://api.github.com/repos/MRibas123/bcn-feb-2019/issues{/number}', 'pulls_url': 'https://api.github.com/repos/MRibas123/bcn-feb-2019/pulls{/number}', 'milestones_url': 'https://api.github.com/repos/MRibas123/bcn-feb-2019/milestones{/number}', 'notifications_url': 'https://api.github.com/repos/MRibas123/bcn-feb-2019/notifications{?since,all,participating}', 'labels_url': 'https://api.github.com/repos/MRibas123/bcn-feb-2019/labels{/name}', 'releases_url': 'https://api.github.com/repos/MRibas123/bcn-feb-2019/releases{/id}', 'deployments_url': 'https://api.github.com/repos/MRibas123/bcn-feb-2019/deployments', 'created_at': '2021-01-25T14:35:31Z', 'updated_at': '2021-01-25T14:35:32Z', 'pushed_at': '2019-02-18T22:33:04Z', 'git_url': 'git://github.com/MRibas123/bcn-feb-2019.git', 'ssh_url': 'git@github.com:MRibas123/bcn-feb-2019.git', 'clone_url': 'https://github.com/MRibas123/bcn-feb-2019.git', 'svn_url': 'https://github.com/MRibas123/bcn-feb-2019', 'homepage': None, 'size': 163749, 'stargazers_count': 0, 'watchers_count': 0, 'language': None, 'has_issues': False, 'has_projects': True, 'has_downloads': True, 'has_wiki': True, 'has_pages': False, 'has_discussions': False, 'forks_count': 0, 'mirror_url': None, 'archived': False, 'disabled': False, 'open_issues_count': 0, 'license': {'key': 'agpl-3.0', 'name': 'GNU Affero General Public License v3.0', 'spdx_id': 'AGPL-3.0', 'url': 'https://api.github.com/licenses/agpl-3.0', 'node_id': 'MDc6TGljZW5zZTE='}, 'allow_forking': True, 'is_template': False, 'web_commit_signoff_required': False, 'topics': [], 'visibility': 'public', 'forks': 0, 'open_issues': 0, 'watchers': 0, 'default_branch': 'master', 'permissions': {'admin': False, 'maintain': False, 'push': False, 'triage': False, 'pull': True}}, {'id': 319429421, 'node_id': 'MDEwOlJlcG9zaXRvcnkzMTk0Mjk0MjE=', 'name': 'bcn-feb-2019', 'full_name': 'MariaEstebanDA/bcn-feb-2019', 'private': False, 'owner': {'login': 'MariaEstebanDA', 'id': 72495380, 'node_id': 'MDQ6VXNlcjcyNDk1Mzgw', 'avatar_url': 'https://avatars.githubusercontent.com/u/72495380?v=4', 'gravatar_id': '', 'url': 'https://api.github.com/users/MariaEstebanDA', 'html_url': 'https://github.com/MariaEstebanDA', 'followers_url': 'https://api.github.com/users/MariaEstebanDA/followers', 'following_url': 'https://api.github.com/users/MariaEstebanDA/following{/other_user}', 'gists_url': 'https://api.github.com/users/MariaEstebanDA/gists{/gist_id}', 'starred_url': 'https://api.github.com/users/MariaEstebanDA/starred{/owner}{/repo}', 'subscriptions_url': 'https://api.github.com/users/MariaEstebanDA/subscriptions', 'organizations_url': 'https://api.github.com/users/MariaEstebanDA/orgs', 'repos_url': 'https://api.github.com/users/MariaEstebanDA/repos', 'events_url': 'https://api.github.com/users/MariaEstebanDA/events{/privacy}', 'received_events_url': 'https://api.github.com/users/MariaEstebanDA/received_events', 'type': 'User', 'site_admin': False}, 'html_url': 'https://github.com/MariaEstebanDA/bcn-feb-2019', 'description': None, 'fork': True, 'url': 'https://api.github.com/repos/MariaEstebanDA/bcn-feb-2019', 'forks_url': 'https://api.github.com/repos/MariaEstebanDA/bcn-feb-2019/forks', 'keys_url': 'https://api.github.com/repos/MariaEstebanDA/bcn-feb-2019/keys{/key_id}', 'collaborators_url': 'https://api.github.com/repos/MariaEstebanDA/bcn-feb-2019/collaborators{/collaborator}', 'teams_url': 'https://api.github.com/repos/MariaEstebanDA/bcn-feb-2019/teams', 'hooks_url': 'https://api.github.com/repos/MariaEstebanDA/bcn-feb-2019/hooks', 'issue_events_url': 'https://api.github.com/repos/MariaEstebanDA/bcn-feb-2019/issues/events{/number}', 'events_url': 'https://api.github.com/repos/MariaEstebanDA/bcn-feb-2019/events', 'assignees_url': 'https://api.github.com/repos/MariaEstebanDA/bcn-feb-2019/assignees{/user}', 'branches_url': 'https://api.github.com/repos/MariaEstebanDA/bcn-feb-2019/branches{/branch}', 'tags_url': 'https://api.github.com/repos/MariaEstebanDA/bcn-feb-2019/tags', 'blobs_url': 'https://api.github.com/repos/MariaEstebanDA/bcn-feb-2019/git/blobs{/sha}', 'git_tags_url': 'https://api.github.com/repos/MariaEstebanDA/bcn-feb-2019/git/tags{/sha}', 'git_refs_url': 'https://api.github.com/repos/MariaEstebanDA/bcn-feb-2019/git/refs{/sha}', 'trees_url': 'https://api.github.com/repos/MariaEstebanDA/bcn-feb-2019/git/trees{/sha}', 'statuses_url': 'https://api.github.com/repos/MariaEstebanDA/bcn-feb-2019/statuses/{sha}', 'languages_url': 'https://api.github.com/repos/MariaEstebanDA/bcn-feb-2019/languages', 'stargazers_url': 'https://api.github.com/repos/MariaEstebanDA/bcn-feb-2019/stargazers', 'contributors_url': 'https://api.github.com/repos/MariaEstebanDA/bcn-feb-2019/contributors', 'subscribers_url': 'https://api.github.com/repos/MariaEstebanDA/bcn-feb-2019/subscribers', 'subscription_url': 'https://api.github.com/repos/MariaEstebanDA/bcn-feb-2019/subscription', 'commits_url': 'https://api.github.com/repos/MariaEstebanDA/bcn-feb-2019/commits{/sha}', 'git_commits_url': 'https://api.github.com/repos/MariaEstebanDA/bcn-feb-2019/git/commits{/sha}', 'comments_url': 'https://api.github.com/repos/MariaEstebanDA/bcn-feb-2019/comments{/number}', 'issue_comment_url': 'https://api.github.com/repos/MariaEstebanDA/bcn-feb-2019/issues/comments{/number}', 'contents_url': 'https://api.github.com/repos/MariaEstebanDA/bcn-feb-2019/contents/{+path}', 'compare_url': 'https://api.github.com/repos/MariaEstebanDA/bcn-feb-2019/compare/{base}...{head}', 'merges_url': 'https://api.github.com/repos/MariaEstebanDA/bcn-feb-2019/merges', 'archive_url': 'https://api.github.com/repos/MariaEstebanDA/bcn-feb-2019/{archive_format}{/ref}', 'downloads_url': 'https://api.github.com/repos/MariaEstebanDA/bcn-feb-2019/downloads', 'issues_url': 'https://api.github.com/repos/MariaEstebanDA/bcn-feb-2019/issues{/number}', 'pulls_url': 'https://api.github.com/repos/MariaEstebanDA/bcn-feb-2019/pulls{/number}', 'milestones_url': 'https://api.github.com/repos/MariaEstebanDA/bcn-feb-2019/milestones{/number}', 'notifications_url': 'https://api.github.com/repos/MariaEstebanDA/bcn-feb-2019/notifications{?since,all,participating}', 'labels_url': 'https://api.github.com/repos/MariaEstebanDA/bcn-feb-2019/labels{/name}', 'releases_url': 'https://api.github.com/repos/MariaEstebanDA/bcn-feb-2019/releases{/id}', 'deployments_url': 'https://api.github.com/repos/MariaEstebanDA/bcn-feb-2019/deployments', 'created_at': '2020-12-07T19:57:10Z', 'updated_at': '2020-12-07T19:57:12Z', 'pushed_at': '2019-02-18T22:33:04Z', 'git_url': 'git://github.com/MariaEstebanDA/bcn-feb-2019.git', 'ssh_url': 'git@github.com:MariaEstebanDA/bcn-feb-2019.git', 'clone_url': 'https://github.com/MariaEstebanDA/bcn-feb-2019.git', 'svn_url': 'https://github.com/MariaEstebanDA/bcn-feb-2019', 'homepage': None, 'size': 163749, 'stargazers_count': 0, 'watchers_count': 0, 'language': None, 'has_issues': False, 'has_projects': True, 'has_downloads': True, 'has_wiki': True, 'has_pages': False, 'has_discussions': False, 'forks_count': 0, 'mirror_url': None, 'archived': False, 'disabled': False, 'open_issues_count': 0, 'license': {'key': 'agpl-3.0', 'name': 'GNU Affero General Public License v3.0', 'spdx_id': 'AGPL-3.0', 'url': 'https://api.github.com/licenses/agpl-3.0', 'node_id': 'MDc6TGljZW5zZTE='}, 'allow_forking': True, 'is_template': False, 'web_commit_signoff_required': False, 'topics': [], 'visibility': 'public', 'forks': 0, 'open_issues': 0, 'watchers': 0, 'default_branch': 'master', 'permissions': {'admin': False, 'maintain': False, 'push': False, 'triage': False, 'pull': True}}, {'id': 318578020, 'node_id': 'MDEwOlJlcG9zaXRvcnkzMTg1NzgwMjA=', 'name': 'bcn-feb-2019', 'full_name': 'je-nakajima/bcn-feb-2019', 'private': False, 'owner': {'login': 'je-nakajima', 'id': 71846807, 'node_id': 'MDQ6VXNlcjcxODQ2ODA3', 'avatar_url': 'https://avatars.githubusercontent.com/u/71846807?v=4', 'gravatar_id': '', 'url': 'https://api.github.com/users/je-nakajima', 'html_url': 'https://github.com/je-nakajima', 'followers_url': 'https://api.github.com/users/je-nakajima/followers', 'following_url': 'https://api.github.com/users/je-nakajima/following{/other_user}', 'gists_url': 'https://api.github.com/users/je-nakajima/gists{/gist_id}', 'starred_url': 'https://api.github.com/users/je-nakajima/starred{/owner}{/repo}', 'subscriptions_url': 'https://api.github.com/users/je-nakajima/subscriptions', 'organizations_url': 'https://api.github.com/users/je-nakajima/orgs', 'repos_url': 'https://api.github.com/users/je-nakajima/repos', 'events_url': 'https://api.github.com/users/je-nakajima/events{/privacy}', 'received_events_url': 'https://api.github.com/users/je-nakajima/received_events', 'type': 'User', 'site_admin': False}, 'html_url': 'https://github.com/je-nakajima/bcn-feb-2019', 'description': None, 'fork': True, 'url': 'https://api.github.com/repos/je-nakajima/bcn-feb-2019', 'forks_url': 'https://api.github.com/repos/je-nakajima/bcn-feb-2019/forks', 'keys_url': 'https://api.github.com/repos/je-nakajima/bcn-feb-2019/keys{/key_id}', 'collaborators_url': 'https://api.github.com/repos/je-nakajima/bcn-feb-2019/collaborators{/collaborator}', 'teams_url': 'https://api.github.com/repos/je-nakajima/bcn-feb-2019/teams', 'hooks_url': 'https://api.github.com/repos/je-nakajima/bcn-feb-2019/hooks', 'issue_events_url': 'https://api.github.com/repos/je-nakajima/bcn-feb-2019/issues/events{/number}', 'events_url': 'https://api.github.com/repos/je-nakajima/bcn-feb-2019/events', 'assignees_url': 'https://api.github.com/repos/je-nakajima/bcn-feb-2019/assignees{/user}', 'branches_url': 'https://api.github.com/repos/je-nakajima/bcn-feb-2019/branches{/branch}', 'tags_url': 'https://api.github.com/repos/je-nakajima/bcn-feb-2019/tags', 'blobs_url': 'https://api.github.com/repos/je-nakajima/bcn-feb-2019/git/blobs{/sha}', 'git_tags_url': 'https://api.github.com/repos/je-nakajima/bcn-feb-2019/git/tags{/sha}', 'git_refs_url': 'https://api.github.com/repos/je-nakajima/bcn-feb-2019/git/refs{/sha}', 'trees_url': 'https://api.github.com/repos/je-nakajima/bcn-feb-2019/git/trees{/sha}', 'statuses_url': 'https://api.github.com/repos/je-nakajima/bcn-feb-2019/statuses/{sha}', 'languages_url': 'https://api.github.com/repos/je-nakajima/bcn-feb-2019/languages', 'stargazers_url': 'https://api.github.com/repos/je-nakajima/bcn-feb-2019/stargazers', 'contributors_url': 'https://api.github.com/repos/je-nakajima/bcn-feb-2019/contributors', 'subscribers_url': 'https://api.github.com/repos/je-nakajima/bcn-feb-2019/subscribers', 'subscription_url': 'https://api.github.com/repos/je-nakajima/bcn-feb-2019/subscription', 'commits_url': 'https://api.github.com/repos/je-nakajima/bcn-feb-2019/commits{/sha}', 'git_commits_url': 'https://api.github.com/repos/je-nakajima/bcn-feb-2019/git/commits{/sha}', 'comments_url': 'https://api.github.com/repos/je-nakajima/bcn-feb-2019/comments{/number}', 'issue_comment_url': 'https://api.github.com/repos/je-nakajima/bcn-feb-2019/issues/comments{/number}', 'contents_url': 'https://api.github.com/repos/je-nakajima/bcn-feb-2019/contents/{+path}', 'compare_url': 'https://api.github.com/repos/je-nakajima/bcn-feb-2019/compare/{base}...{head}', 'merges_url': 'https://api.github.com/repos/je-nakajima/bcn-feb-2019/merges', 'archive_url': 'https://api.github.com/repos/je-nakajima/bcn-feb-2019/{archive_format}{/ref}', 'downloads_url': 'https://api.github.com/repos/je-nakajima/bcn-feb-2019/downloads', 'issues_url': 'https://api.github.com/repos/je-nakajima/bcn-feb-2019/issues{/number}', 'pulls_url': 'https://api.github.com/repos/je-nakajima/bcn-feb-2019/pulls{/number}', 'milestones_url': 'https://api.github.com/repos/je-nakajima/bcn-feb-2019/milestones{/number}', 'notifications_url': 'https://api.github.com/repos/je-nakajima/bcn-feb-2019/notifications{?since,all,participating}', 'labels_url': 'https://api.github.com/repos/je-nakajima/bcn-feb-2019/labels{/name}', 'releases_url': 'https://api.github.com/repos/je-nakajima/bcn-feb-2019/releases{/id}', 'deployments_url': 'https://api.github.com/repos/je-nakajima/bcn-feb-2019/deployments', 'created_at': '2020-12-04T16:46:57Z', 'updated_at': '2020-12-04T16:46:59Z', 'pushed_at': '2019-02-18T22:33:04Z', 'git_url': 'git://github.com/je-nakajima/bcn-feb-2019.git', 'ssh_url': 'git@github.com:je-nakajima/bcn-feb-2019.git', 'clone_url': 'https://github.com/je-nakajima/bcn-feb-2019.git', 'svn_url': 'https://github.com/je-nakajima/bcn-feb-2019', 'homepage': None, 'size': 163749, 'stargazers_count': 0, 'watchers_count': 0, 'language': None, 'has_issues': False, 'has_projects': True, 'has_downloads': True, 'has_wiki': True, 'has_pages': False, 'has_discussions': False, 'forks_count': 0, 'mirror_url': None, 'archived': False, 'disabled': False, 'open_issues_count': 0, 'license': {'key': 'agpl-3.0', 'name': 'GNU Affero General Public License v3.0', 'spdx_id': 'AGPL-3.0', 'url': 'https://api.github.com/licenses/agpl-3.0', 'node_id': 'MDc6TGljZW5zZTE='}, 'allow_forking': True, 'is_template': False, 'web_commit_signoff_required': False, 'topics': [], 'visibility': 'public', 'forks': 0, 'open_issues': 0, 'watchers': 0, 'default_branch': 'master', 'permissions': {'admin': False, 'maintain': False, 'push': False, 'triage': False, 'pull': True}}, {'id': 278336683, 'node_id': 'MDEwOlJlcG9zaXRvcnkyNzgzMzY2ODM=', 'name': 'bcn-feb-2019', 'full_name': 'franbaldi/bcn-feb-2019', 'private': False, 'owner': {'login': 'franbaldi', 'id': 25199469, 'node_id': 'MDQ6VXNlcjI1MTk5NDY5', 'avatar_url': 'https://avatars.githubusercontent.com/u/25199469?v=4', 'gravatar_id': '', 'url': 'https://api.github.com/users/franbaldi', 'html_url': 'https://github.com/franbaldi', 'followers_url': 'https://api.github.com/users/franbaldi/followers', 'following_url': 'https://api.github.com/users/franbaldi/following{/other_user}', 'gists_url': 'https://api.github.com/users/franbaldi/gists{/gist_id}', 'starred_url': 'https://api.github.com/users/franbaldi/starred{/owner}{/repo}', 'subscriptions_url': 'https://api.github.com/users/franbaldi/subscriptions', 'organizations_url': 'https://api.github.com/users/franbaldi/orgs', 'repos_url': 'https://api.github.com/users/franbaldi/repos', 'events_url': 'https://api.github.com/users/franbaldi/events{/privacy}', 'received_events_url': 'https://api.github.com/users/franbaldi/received_events', 'type': 'User', 'site_admin': False}, 'html_url': 'https://github.com/franbaldi/bcn-feb-2019', 'description': None, 'fork': True, 'url': 'https://api.github.com/repos/franbaldi/bcn-feb-2019', 'forks_url': 'https://api.github.com/repos/franbaldi/bcn-feb-2019/forks', 'keys_url': 'https://api.github.com/repos/franbaldi/bcn-feb-2019/keys{/key_id}', 'collaborators_url': 'https://api.github.com/repos/franbaldi/bcn-feb-2019/collaborators{/collaborator}', 'teams_url': 'https://api.github.com/repos/franbaldi/bcn-feb-2019/teams', 'hooks_url': 'https://api.github.com/repos/franbaldi/bcn-feb-2019/hooks', 'issue_events_url': 'https://api.github.com/repos/franbaldi/bcn-feb-2019/issues/events{/number}', 'events_url': 'https://api.github.com/repos/franbaldi/bcn-feb-2019/events', 'assignees_url': 'https://api.github.com/repos/franbaldi/bcn-feb-2019/assignees{/user}', 'branches_url': 'https://api.github.com/repos/franbaldi/bcn-feb-2019/branches{/branch}', 'tags_url': 'https://api.github.com/repos/franbaldi/bcn-feb-2019/tags', 'blobs_url': 'https://api.github.com/repos/franbaldi/bcn-feb-2019/git/blobs{/sha}', 'git_tags_url': 'https://api.github.com/repos/franbaldi/bcn-feb-2019/git/tags{/sha}', 'git_refs_url': 'https://api.github.com/repos/franbaldi/bcn-feb-2019/git/refs{/sha}', 'trees_url': 'https://api.github.com/repos/franbaldi/bcn-feb-2019/git/trees{/sha}', 'statuses_url': 'https://api.github.com/repos/franbaldi/bcn-feb-2019/statuses/{sha}', 'languages_url': 'https://api.github.com/repos/franbaldi/bcn-feb-2019/languages', 'stargazers_url': 'https://api.github.com/repos/franbaldi/bcn-feb-2019/stargazers', 'contributors_url': 'https://api.github.com/repos/franbaldi/bcn-feb-2019/contributors', 'subscribers_url': 'https://api.github.com/repos/franbaldi/bcn-feb-2019/subscribers', 'subscription_url': 'https://api.github.com/repos/franbaldi/bcn-feb-2019/subscription', 'commits_url': 'https://api.github.com/repos/franbaldi/bcn-feb-2019/commits{/sha}', 'git_commits_url': 'https://api.github.com/repos/franbaldi/bcn-feb-2019/git/commits{/sha}', 'comments_url': 'https://api.github.com/repos/franbaldi/bcn-feb-2019/comments{/number}', 'issue_comment_url': 'https://api.github.com/repos/franbaldi/bcn-feb-2019/issues/comments{/number}', 'contents_url': 'https://api.github.com/repos/franbaldi/bcn-feb-2019/contents/{+path}', 'compare_url': 'https://api.github.com/repos/franbaldi/bcn-feb-2019/compare/{base}...{head}', 'merges_url': 'https://api.github.com/repos/franbaldi/bcn-feb-2019/merges', 'archive_url': 'https://api.github.com/repos/franbaldi/bcn-feb-2019/{archive_format}{/ref}', 'downloads_url': 'https://api.github.com/repos/franbaldi/bcn-feb-2019/downloads', 'issues_url': 'https://api.github.com/repos/franbaldi/bcn-feb-2019/issues{/number}', 'pulls_url': 'https://api.github.com/repos/franbaldi/bcn-feb-2019/pulls{/number}', 'milestones_url': 'https://api.github.com/repos/franbaldi/bcn-feb-2019/milestones{/number}', 'notifications_url': 'https://api.github.com/repos/franbaldi/bcn-feb-2019/notifications{?since,all,participating}', 'labels_url': 'https://api.github.com/repos/franbaldi/bcn-feb-2019/labels{/name}', 'releases_url': 'https://api.github.com/repos/franbaldi/bcn-feb-2019/releases{/id}', 'deployments_url': 'https://api.github.com/repos/franbaldi/bcn-feb-2019/deployments', 'created_at': '2020-07-09T10:41:19Z', 'updated_at': '2020-07-09T10:41:20Z', 'pushed_at': '2019-02-18T22:33:04Z', 'git_url': 'git://github.com/franbaldi/bcn-feb-2019.git', 'ssh_url': 'git@github.com:franbaldi/bcn-feb-2019.git', 'clone_url': 'https://github.com/franbaldi/bcn-feb-2019.git', 'svn_url': 'https://github.com/franbaldi/bcn-feb-2019', 'homepage': None, 'size': 163749, 'stargazers_count': 0, 'watchers_count': 0, 'language': None, 'has_issues': False, 'has_projects': True, 'has_downloads': True, 'has_wiki': True, 'has_pages': False, 'has_discussions': False, 'forks_count': 0, 'mirror_url': None, 'archived': False, 'disabled': False, 'open_issues_count': 0, 'license': {'key': 'agpl-3.0', 'name': 'GNU Affero General Public License v3.0', 'spdx_id': 'AGPL-3.0', 'url': 'https://api.github.com/licenses/agpl-3.0', 'node_id': 'MDc6TGljZW5zZTE='}, 'allow_forking': True, 'is_template': False, 'web_commit_signoff_required': False, 'topics': [], 'visibility': 'public', 'forks': 0, 'open_issues': 0, 'watchers': 0, 'default_branch': 'master', 'permissions': {'admin': False, 'maintain': False, 'push': False, 'triage': False, 'pull': True}}, {'id': 276718167, 'node_id': 'MDEwOlJlcG9zaXRvcnkyNzY3MTgxNjc=', 'name': 'bcn-feb-2019', 'full_name': 'brunacarolino/bcn-feb-2019', 'private': False, 'owner': {'login': 'brunacarolino', 'id': 67610079, 'node_id': 'MDQ6VXNlcjY3NjEwMDc5', 'avatar_url': 'https://avatars.githubusercontent.com/u/67610079?v=4', 'gravatar_id': '', 'url': 'https://api.github.com/users/brunacarolino', 'html_url': 'https://github.com/brunacarolino', 'followers_url': 'https://api.github.com/users/brunacarolino/followers', 'following_url': 'https://api.github.com/users/brunacarolino/following{/other_user}', 'gists_url': 'https://api.github.com/users/brunacarolino/gists{/gist_id}', 'starred_url': 'https://api.github.com/users/brunacarolino/starred{/owner}{/repo}', 'subscriptions_url': 'https://api.github.com/users/brunacarolino/subscriptions', 'organizations_url': 'https://api.github.com/users/brunacarolino/orgs', 'repos_url': 'https://api.github.com/users/brunacarolino/repos', 'events_url': 'https://api.github.com/users/brunacarolino/events{/privacy}', 'received_events_url': 'https://api.github.com/users/brunacarolino/received_events', 'type': 'User', 'site_admin': False}, 'html_url': 'https://github.com/brunacarolino/bcn-feb-2019', 'description': None, 'fork': True, 'url': 'https://api.github.com/repos/brunacarolino/bcn-feb-2019', 'forks_url': 'https://api.github.com/repos/brunacarolino/bcn-feb-2019/forks', 'keys_url': 'https://api.github.com/repos/brunacarolino/bcn-feb-2019/keys{/key_id}', 'collaborators_url': 'https://api.github.com/repos/brunacarolino/bcn-feb-2019/collaborators{/collaborator}', 'teams_url': 'https://api.github.com/repos/brunacarolino/bcn-feb-2019/teams', 'hooks_url': 'https://api.github.com/repos/brunacarolino/bcn-feb-2019/hooks', 'issue_events_url': 'https://api.github.com/repos/brunacarolino/bcn-feb-2019/issues/events{/number}', 'events_url': 'https://api.github.com/repos/brunacarolino/bcn-feb-2019/events', 'assignees_url': 'https://api.github.com/repos/brunacarolino/bcn-feb-2019/assignees{/user}', 'branches_url': 'https://api.github.com/repos/brunacarolino/bcn-feb-2019/branches{/branch}', 'tags_url': 'https://api.github.com/repos/brunacarolino/bcn-feb-2019/tags', 'blobs_url': 'https://api.github.com/repos/brunacarolino/bcn-feb-2019/git/blobs{/sha}', 'git_tags_url': 'https://api.github.com/repos/brunacarolino/bcn-feb-2019/git/tags{/sha}', 'git_refs_url': 'https://api.github.com/repos/brunacarolino/bcn-feb-2019/git/refs{/sha}', 'trees_url': 'https://api.github.com/repos/brunacarolino/bcn-feb-2019/git/trees{/sha}', 'statuses_url': 'https://api.github.com/repos/brunacarolino/bcn-feb-2019/statuses/{sha}', 'languages_url': 'https://api.github.com/repos/brunacarolino/bcn-feb-2019/languages', 'stargazers_url': 'https://api.github.com/repos/brunacarolino/bcn-feb-2019/stargazers', 'contributors_url': 'https://api.github.com/repos/brunacarolino/bcn-feb-2019/contributors', 'subscribers_url': 'https://api.github.com/repos/brunacarolino/bcn-feb-2019/subscribers', 'subscription_url': 'https://api.github.com/repos/brunacarolino/bcn-feb-2019/subscription', 'commits_url': 'https://api.github.com/repos/brunacarolino/bcn-feb-2019/commits{/sha}', 'git_commits_url': 'https://api.github.com/repos/brunacarolino/bcn-feb-2019/git/commits{/sha}', 'comments_url': 'https://api.github.com/repos/brunacarolino/bcn-feb-2019/comments{/number}', 'issue_comment_url': 'https://api.github.com/repos/brunacarolino/bcn-feb-2019/issues/comments{/number}', 'contents_url': 'https://api.github.com/repos/brunacarolino/bcn-feb-2019/contents/{+path}', 'compare_url': 'https://api.github.com/repos/brunacarolino/bcn-feb-2019/compare/{base}...{head}', 'merges_url': 'https://api.github.com/repos/brunacarolino/bcn-feb-2019/merges', 'archive_url': 'https://api.github.com/repos/brunacarolino/bcn-feb-2019/{archive_format}{/ref}', 'downloads_url': 'https://api.github.com/repos/brunacarolino/bcn-feb-2019/downloads', 'issues_url': 'https://api.github.com/repos/brunacarolino/bcn-feb-2019/issues{/number}', 'pulls_url': 'https://api.github.com/repos/brunacarolino/bcn-feb-2019/pulls{/number}', 'milestones_url': 'https://api.github.com/repos/brunacarolino/bcn-feb-2019/milestones{/number}', 'notifications_url': 'https://api.github.com/repos/brunacarolino/bcn-feb-2019/notifications{?since,all,participating}', 'labels_url': 'https://api.github.com/repos/brunacarolino/bcn-feb-2019/labels{/name}', 'releases_url': 'https://api.github.com/repos/brunacarolino/bcn-feb-2019/releases{/id}', 'deployments_url': 'https://api.github.com/repos/brunacarolino/bcn-feb-2019/deployments', 'created_at': '2020-07-02T18:24:59Z', 'updated_at': '2020-07-02T18:53:08Z', 'pushed_at': '2020-07-02T18:53:01Z', 'git_url': 'git://github.com/brunacarolino/bcn-feb-2019.git', 'ssh_url': 'git@github.com:brunacarolino/bcn-feb-2019.git', 'clone_url': 'https://github.com/brunacarolino/bcn-feb-2019.git', 'svn_url': 'https://github.com/brunacarolino/bcn-feb-2019', 'homepage': None, 'size': 163750, 'stargazers_count': 0, 'watchers_count': 0, 'language': 'Jupyter Notebook', 'has_issues': False, 'has_projects': True, 'has_downloads': True, 'has_wiki': True, 'has_pages': False, 'has_discussions': False, 'forks_count': 0, 'mirror_url': None, 'archived': False, 'disabled': False, 'open_issues_count': 0, 'license': {'key': 'agpl-3.0', 'name': 'GNU Affero General Public License v3.0', 'spdx_id': 'AGPL-3.0', 'url': 'https://api.github.com/licenses/agpl-3.0', 'node_id': 'MDc6TGljZW5zZTE='}, 'allow_forking': True, 'is_template': False, 'web_commit_signoff_required': False, 'topics': [], 'visibility': 'public', 'forks': 0, 'open_issues': 0, 'watchers': 0, 'default_branch': 'master', 'permissions': {'admin': False, 'maintain': False, 'push': False, 'triage': False, 'pull': True}}]\n"
     ]
    }
   ],
   "source": [
    "# GitHub API endpoint\n",
    "# api_url = 'https://api.github.com/repos/OWNER/REPO/forks'\n",
    "\n",
    "owner = 'ironhack-datalabs'\n",
    "# owner = 'fgardete'\n",
    "repo = 'bcn-feb-2019'\n",
    "api_url = f'https://api.github.com/repos/{owner}/{repo}/forks'\n",
    "# api_url = f'https://api.github.com/repos/{owner}/{repo}/languages'\n",
    "\n",
    "# Headers for the API request\n",
    "headers = {\n",
    "    'Accept': 'application/vnd.github+json',\n",
    "    'Authorization': f'Bearer {token}',\n",
    "    'X-GitHub-Api-Version': '2022-11-28',\n",
    "}\n",
    "\n",
    "# Make the API request\n",
    "response = requests.get(api_url, headers=headers)\n",
    "\n",
    "# Check the response status code\n",
    "if response.status_code == 200:\n",
    "    # Successfully retrieved data\n",
    "    repo_data = response.json()\n",
    "    print(repo_data)\n",
    "else:\n",
    "    # Handle errors\n",
    "    print(f\"Error: {response.status_code}\")\n",
    "    print(response.json())"
   ]
  },
  {
   "cell_type": "code",
   "execution_count": 33,
   "id": "54a9ef4b",
   "metadata": {},
   "outputs": [],
   "source": [
    "all_owners = []\n",
    "\n",
    "for repo in repo_data:\n",
    "    owner = repo[\"owner\"]['login']\n",
    "\n",
    "    all_owners.append(owner)\n"
   ]
  },
  {
   "cell_type": "code",
   "execution_count": 34,
   "id": "680336c8",
   "metadata": {},
   "outputs": [
    {
     "data": {
      "text/plain": [
       "['fgardete',\n",
       " 'StanRocha',\n",
       " 'MRibas123',\n",
       " 'MariaEstebanDA',\n",
       " 'je-nakajima',\n",
       " 'franbaldi',\n",
       " 'brunacarolino']"
      ]
     },
     "execution_count": 34,
     "metadata": {},
     "output_type": "execute_result"
    }
   ],
   "source": [
    "all_owners"
   ]
  },
  {
   "cell_type": "code",
   "execution_count": 55,
   "id": "be0a64bb",
   "metadata": {},
   "outputs": [],
   "source": [
    "def get_languages(owners):\n",
    "    unique_languages= set()\n",
    "    for owner in owners:\n",
    "        repo = 'bcn-feb-2019'\n",
    "        api_url = f'https://api.github.com/repos/{owner}/{repo}/languages'\n",
    "\n",
    "\n",
    "        headers = {\n",
    "            'Accept': 'application/vnd.github+json',\n",
    "            'Authorization': f'Bearer {token}',\n",
    "            'X-GitHub-Api-Version': '2022-11-28',\n",
    "            }\n",
    "        response = requests.get(api_url, headers=headers)\n",
    "\n",
    "        if response.status_code == 200:\n",
    "            repo_data = response.json()\n",
    "            for language in repo_data.keys():\n",
    "                unique_languages.add(language)\n",
    "                \n",
    "        else:\n",
    "  \n",
    "            print(f\"Error: {response.status_code}\")\n",
    "            print(response.json())\n",
    "\n",
    "    return unique_languages\n"
   ]
  },
  {
   "cell_type": "code",
   "execution_count": 56,
   "id": "b703b7cb",
   "metadata": {},
   "outputs": [
    {
     "data": {
      "text/plain": [
       "{'HTML', 'Jupyter Notebook', 'Python'}"
      ]
     },
     "execution_count": 56,
     "metadata": {},
     "output_type": "execute_result"
    }
   ],
   "source": [
    "get_languages(all_owners)"
   ]
  },
  {
   "cell_type": "markdown",
   "id": "b858fe9a",
   "metadata": {},
   "source": [
    "### Challenge 2: Count Commits"
   ]
  },
  {
   "cell_type": "markdown",
   "id": "12cc16db",
   "metadata": {},
   "source": [
    "I'm not sure that i understood task correctly, because if i use API for commits i receive only 3 commits from 2022."
   ]
  },
  {
   "cell_type": "code",
   "execution_count": 97,
   "id": "5271b199",
   "metadata": {},
   "outputs": [
    {
     "name": "stdout",
     "output_type": "stream",
     "text": [
      "[{'author_id': 99891270, 'date': '2022-03-31T18:05:34Z'}, {'author_id': 99891270, 'date': '2022-03-31T18:04:49Z'}, {'author_id': 99891270, 'date': '2022-03-19T11:41:30Z'}]\n"
     ]
    }
   ],
   "source": [
    "\n",
    "owner = 'ta-data-pt-rmt'\n",
    "\n",
    "repo = 'lab-mysql-first-queries'\n",
    "\n",
    "api_url = f'https://api.github.com/repos/{owner}/{repo}/commits'\n",
    "\n",
    "\n",
    "headers = {\n",
    "    'Accept': 'application/vnd.github+json',\n",
    "    'Authorization': f'Bearer {token}',\n",
    "    'X-GitHub-Api-Version': '2022-11-28',\n",
    "}\n",
    "\n",
    "# params = {\n",
    "#     'since': datetime.now() - timedelta(weeks=3),\n",
    "#      }\n",
    "\n",
    "# Make the API request with time delta:\n",
    "# response = requests.get(api_url, params = params, headers=headers)\n",
    "\n",
    "\n",
    "response = requests.get(api_url, headers=headers)\n",
    "\n",
    "if response.status_code == 200:\n",
    "   \n",
    "    repo_data = response.json()\n",
    "\n",
    "    all_commits = []\n",
    "\n",
    "    for commit in repo_data:\n",
    "        author_info = commit.get('author')\n",
    "        commit_info = commit.get('commit')\n",
    "\n",
    "        if author_info and commit_info:\n",
    "            commit_data = {\n",
    "                'author_id': author_info.get('id'),\n",
    "                'date': commit_info['author']['date']\n",
    "            }\n",
    "            all_commits.append(commit_data)\n",
    "\n",
    "    print(all_commits)\n",
    "\n",
    "else:\n",
    "  \n",
    "    print(f\"Error: {response.status_code}\")\n",
    "    print(response.json())"
   ]
  },
  {
   "cell_type": "markdown",
   "id": "3c0ed275",
   "metadata": {},
   "source": [
    "I thought maybe i need to use pull requests and get SHA for next end point...but also not sure, so an example below i wanted to take all pull requests and filter them on a date. I will be glad if you could clarify for me what end point should be here."
   ]
  },
  {
   "cell_type": "code",
   "execution_count": 104,
   "id": "614dd6df",
   "metadata": {},
   "outputs": [
    {
     "name": "stdout",
     "output_type": "stream",
     "text": [
      "[{'author_id': 166904598, 'author_name': 'alexg119:main', 'sha': '6d34bed7f035a27bb70914568b38d9c5837a9a22', 'date_pushed': '2024-06-13T15:42:46Z'}, {'author_id': 81372197, 'author_name': 'Blyatman-coder:main', 'sha': 'cbab6fa5c3eb5e00bd77fa57192a9c1de6c0b7c9', 'date_pushed': '2024-06-13T15:42:46Z'}, {'author_id': 71112777, 'author_name': 'MontaseerAlam:main', 'sha': '6881be594d37c2eb4d4b7ad20261f1e508fd9e1f', 'date_pushed': '2024-06-13T15:42:46Z'}, {'author_id': 166298445, 'author_name': 'Enterausername357:main', 'sha': 'e4ae75ae6f4f6ac842f6638ce32301587eef6077', 'date_pushed': '2024-06-13T15:42:46Z'}, {'author_id': 165660345, 'author_name': 'hilu1:main', 'sha': '1baa376d9e5b27eb169b8fa25fc38331683273bb', 'date_pushed': '2024-06-13T15:42:46Z'}, {'author_id': 166646497, 'author_name': 'gop997:main', 'sha': '38a0a0c1b2275a4080fbb87b505e892e7d2d404c', 'date_pushed': '2024-06-13T15:42:46Z'}, {'author_id': 134236963, 'author_name': 'Annasnizhko:main', 'sha': '6a58d37286fedb5903deb82350353c05e26cfaef', 'date_pushed': '2024-06-13T15:42:46Z'}, {'author_id': 166516990, 'author_name': 'Prerna152:main', 'sha': 'ac25d80fd57cbb508a6f3bc7e9cede5ea69ce0a3', 'date_pushed': '2024-06-13T15:42:46Z'}, {'author_id': 166534781, 'author_name': 'ReginaVeliczky:main', 'sha': '56bc2d1fd7f35f81ca0d552f0bcc9e493f6ab32d', 'date_pushed': '2024-06-13T15:42:46Z'}, {'author_id': 159649513, 'author_name': 'ylavr:main', 'sha': '0296df1739c7fa004edc6a06fb9e33da9a1bae10', 'date_pushed': '2024-06-13T15:42:46Z'}, {'author_id': 146818260, 'author_name': 'smimfaru:main', 'sha': '50779ab0e2289fde00d00f7e9b6f951ed1b4106b', 'date_pushed': '2024-06-13T15:42:46Z'}, {'author_id': 96743777, 'author_name': 'aluisacarolina:main', 'sha': '20ab8dbb956d5d07e00ed5a6f18db4dbb0e5c3c8', 'date_pushed': '2024-06-13T15:42:46Z'}, {'author_id': 166414077, 'author_name': 'EloraKerboua:main', 'sha': '3cdf7eadd1973c37fddc71facfa97aeaf165b5d4', 'date_pushed': '2024-06-13T15:42:46Z'}, {'author_id': 83315233, 'author_name': 'guada-aguero:main', 'sha': 'e1f1668305ba824ce58ff12f84423fb11af4b077', 'date_pushed': '2024-06-13T15:42:46Z'}, {'author_id': 145394994, 'author_name': 'RuoxiHou:main', 'sha': 'f52308021df1eafd60ebedf7db588da94c0c62ca', 'date_pushed': '2024-06-13T15:42:46Z'}, {'author_id': 142213298, 'author_name': 'nhannguyen-th:main', 'sha': 'f708ce42150b8ee77fefda549ea960d9c2f630af', 'date_pushed': '2024-06-13T15:42:46Z'}, {'author_id': 138607470, 'author_name': 'Amandine0424:main', 'sha': 'ed044e75406b8f7d829c01ae242a0509c3eb465f', 'date_pushed': '2024-06-13T15:42:46Z'}, {'author_id': 142164143, 'author_name': 'JulietteGoardon:main', 'sha': '476b99e478949f0a5097c8543e877006df7930f0', 'date_pushed': '2024-06-13T15:42:46Z'}, {'author_id': 115019392, 'author_name': 'TMeesters:main', 'sha': '2441955948db829ffcbdfe2b3945404dd60d4a16', 'date_pushed': '2024-06-13T15:42:46Z'}, {'author_id': 143346789, 'author_name': 'berna-ozer:main', 'sha': '90da947a2c1a775b5aa2975ef0e514acf718a4ee', 'date_pushed': '2024-06-13T15:42:46Z'}, {'author_id': 142256676, 'author_name': 'FelipeCital:main', 'sha': 'd606276219f992c8b3c89a39de3cf8cfb9178745', 'date_pushed': '2024-06-13T15:42:46Z'}, {'author_id': 44572646, 'author_name': 'gonzalo711:main', 'sha': '63a5a88dcb93ac5fddc6f04c9448272587cbb407', 'date_pushed': '2024-06-13T15:42:46Z'}, {'author_id': 137710641, 'author_name': 'skhoso:main', 'sha': '78cbe427eadc7259cda58c339a03889181560761', 'date_pushed': '2024-06-13T15:42:46Z'}, {'author_id': 64439276, 'author_name': 'Rina4M:main', 'sha': '9b4cf0b0fc6a9e0dcfbd9ebdf2f87c1a57dc8ea7', 'date_pushed': '2024-06-13T15:42:46Z'}, {'author_id': 55619743, 'author_name': 'rocioalvrem:main', 'sha': '1fa42b5b0ae5632c2ddf7fed254431ab149ff1b2', 'date_pushed': '2024-06-13T15:42:46Z'}, {'author_id': 78821631, 'author_name': 'marioc94:main', 'sha': 'e7df9ebc2f993d86b1e875fe8963a25e4776116b', 'date_pushed': '2024-06-13T15:42:46Z'}, {'author_id': 126192644, 'author_name': 'SabirK99:main', 'sha': 'f0b919462b399cadc89f1d26363752f35fecbcfd', 'date_pushed': '2024-06-13T15:42:46Z'}, {'author_id': 126715059, 'author_name': 'DavidSS-S:main', 'sha': 'b5e20f052c25e6b19e910427660992f711fd88fb', 'date_pushed': '2024-06-13T15:42:46Z'}, {'author_id': 70705534, 'author_name': 'fl0rma:main', 'sha': '667869a5c31dc146a781bda82ed54f851844a9cd', 'date_pushed': '2024-06-13T15:42:46Z'}, {'author_id': 128517972, 'author_name': 'Miquelelucee:main', 'sha': 'deb207511fd647fc31ede457abc74a44aece05f8', 'date_pushed': '2024-06-13T15:42:46Z'}, {'author_id': 125598058, 'author_name': 'Andre-Fontoura-Faria:main', 'sha': '9749f37cb41f7971896afc874e47fa32a57bff4a', 'date_pushed': '2024-06-13T15:42:46Z'}, {'author_id': 125505098, 'author_name': 'martaferreiro:main', 'sha': 'fafb8a8f7bb22816085eb1dfa89a01a73f690ec2', 'date_pushed': '2024-06-13T15:42:46Z'}, {'author_id': 82026936, 'author_name': 'TajomnyTien:main', 'sha': '73b68fba2bb36f8e192063abdb28c85a690c5a26', 'date_pushed': '2024-06-13T15:42:46Z'}, {'author_id': 127566023, 'author_name': 'AndreiaJardim:main', 'sha': '8d312ba49e6ca1f30f52d44d8ed05c4bfec98c18', 'date_pushed': '2024-06-13T15:42:46Z'}, {'author_id': 125499192, 'author_name': 'ericaneves:main', 'sha': 'f74d79e0852071ae0309ab47cbbb823c180cc34d', 'date_pushed': '2024-06-13T15:42:46Z'}, {'author_id': 127620935, 'author_name': 'geetver10:main', 'sha': '696449e8d7483d9484429f1c8ad85b4c15483ccf', 'date_pushed': '2024-06-13T15:42:46Z'}, {'author_id': 128547278, 'author_name': 'mgelor:main', 'sha': '0ec6eee58a684a061ad06adcb0f9faa19bbedab6', 'date_pushed': '2024-06-13T15:42:46Z'}, {'author_id': 110092090, 'author_name': 'AdrianFloresG:main', 'sha': '02ce02e66ca6141a88d764479403b144df54c52e', 'date_pushed': '2024-06-13T15:42:46Z'}, {'author_id': 110282181, 'author_name': 'JavierHerasJimenez:main', 'sha': '50dd040acfa773032952707b30a42374bcb21ad3', 'date_pushed': '2024-06-13T15:42:46Z'}, {'author_id': 64008705, 'author_name': 'Dams89:main', 'sha': '51e4608efcfbabe2cf585fe63c8ce4d2458cd50b', 'date_pushed': '2024-06-13T15:42:46Z'}]\n",
      "40\n"
     ]
    }
   ],
   "source": [
    "three_weeks_ago = datetime.now() - timedelta(weeks=3)\n",
    "\n",
    "owner = 'ta-data-pt-rmt'\n",
    "\n",
    "repo = 'lab-mysql-first-queries'\n",
    "\n",
    "api_url = f'https://api.github.com/repos/{owner}/{repo}/pulls'\n",
    "page = 1\n",
    "\n",
    "headers = {\n",
    "    'Accept': 'application/vnd.github+json',\n",
    "    'Authorization': f'Bearer {token}',\n",
    "    'X-GitHub-Api-Version': '2022-11-28',\n",
    "}\n",
    "\n",
    "params = {\n",
    "    'page': page,\n",
    "    'per_page':'100',\n",
    "   }\n",
    "\n",
    "response = requests.get(api_url,params = params, headers=headers)\n",
    "\n",
    "\n",
    "if response.status_code == 200:\n",
    "   \n",
    "    repo_data = response.json()\n",
    "    all_pulls = []\n",
    "\n",
    "    for pull in repo_data:\n",
    "                author_info = pull.get('user')\n",
    "                author_name = pull.get('head')\n",
    "                pull_info = pull.get('head')\n",
    "                date = pull.get('base')\n",
    "\n",
    "                if author_info and pull_info and date:\n",
    "                    date_pushed = date['repo']['pushed_at']\n",
    "                    date_pushed_dt = datetime.strptime(date_pushed, '%Y-%m-%dT%H:%M:%SZ')\n",
    "\n",
    "                    if date_pushed_dt >= three_weeks_ago:\n",
    "                        pull_data = {\n",
    "                            'author_id': author_info.get('id'),\n",
    "                            'author_name': author_name.get(\"label\"),\n",
    "                            'sha': pull_info['sha'],\n",
    "                            'date_pushed': date_pushed\n",
    "                        }\n",
    "                        all_pulls.append(pull_data)\n",
    "    page += 1\n",
    "    print (all_pulls)\n",
    "    print(len(all_pulls))\n",
    "    \n",
    "else:\n",
    "    \n",
    "    print(f\"Error: {response.status_code}\")\n",
    "    print(response.json())"
   ]
  }
 ],
 "metadata": {
  "kernelspec": {
   "display_name": "Python 3",
   "language": "python",
   "name": "python3"
  },
  "language_info": {
   "codemirror_mode": {
    "name": "ipython",
    "version": 3
   },
   "file_extension": ".py",
   "mimetype": "text/x-python",
   "name": "python",
   "nbconvert_exporter": "python",
   "pygments_lexer": "ipython3",
   "version": "3.10.11"
  }
 },
 "nbformat": 4,
 "nbformat_minor": 5
}
