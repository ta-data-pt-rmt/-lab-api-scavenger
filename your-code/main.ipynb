{
 "cells": [
  {
   "cell_type": "markdown",
   "id": "2eaf369f",
   "metadata": {},
   "source": [
    "### Your lab resolution :"
   ]
  },
  {
   "cell_type": "code",
   "execution_count": 37,
   "id": "6c94489a",
   "metadata": {},
   "outputs": [
    {
     "name": "stdout",
     "output_type": "stream",
     "text": [
      "success\n",
      "{'Jupyter Notebook', 'Python'}\n"
     ]
    }
   ],
   "source": [
    "import requests\n",
    "\n",
    "# The API stuff\n",
    "# I removed my token and other bits that were preventing a push for security etc.\n",
    "\n",
    "# This is our cohort: ta-data-pt-rmt but I keep getting 404, is the repo not public or am I using the wrong end point?\n",
    "\n",
    "# I'm going to try my own repo to test:\n",
    "\n",
    "url = 'https://api.github.com/users/alexg119/repos'\n",
    "\n",
    "response = requests.get(url, headers=headers)\n",
    "forks = response.json()\n",
    "\n",
    "if response.status_code == 200:\n",
    "    print(\"success\")\n",
    "else:\n",
    "    print(response.status_code)\n",
    "\n",
    "\n",
    "\n",
    "languages = set()  # a set for unique entries\n",
    "\n",
    "for fork in forks:\n",
    "    language = fork.get('language')\n",
    "    if language:\n",
    "        languages.add(language)\n",
    "\n",
    "print(languages)\n",
    "\n",
    "# This works. I'll try the Ironhack public repo again"
   ]
  },
  {
   "cell_type": "code",
   "execution_count": 38,
   "id": "eea76300-fd79-4d5f-9132-d606eabb1403",
   "metadata": {},
   "outputs": [
    {
     "name": "stdout",
     "output_type": "stream",
     "text": [
      "404\n"
     ]
    }
   ],
   "source": [
    "# org_url = 'https://api.github.com/orgs/github/repos' - this works.\n",
    "org_url = 'https://api.github.com/orgs/ta-data-pt-rmt/repos'\n",
    "\n",
    "response = requests.get(org_url, headers=headers)\n",
    "\n",
    "if response.status_code == 200:\n",
    "    repos = response.json()\n",
    "    for repo in repos:\n",
    "        print(repo['html_url'])  # i tried to print just repo but it was not easy to read, so I extracted just the URL instead\n",
    "else:\n",
    "    print(response.status_code)\n",
    "\n",
    "# I'm stuck here because I don't know the end point for ta-data-pt-rmt\n",
    "# Maybe I misunderstood the question and I'm supposed to use the 2019 example and not the actual bootcamp i am in?"
   ]
  },
  {
   "cell_type": "code",
   "execution_count": 23,
   "id": "f92e8ba5-b3dc-4272-b61b-258a45007f0a",
   "metadata": {},
   "outputs": [
    {
     "name": "stdout",
     "output_type": "stream",
     "text": [
      "['Jupyter Notebook']\n"
     ]
    }
   ],
   "source": [
    "repo_url = 'https://api.github.com/repos/ironhack-datalabs/bcn-feb-2019/forks'\n",
    "\n",
    "response = requests.get(repo_url, headers=headers)\n",
    "\n",
    "# Re-using code from cell 1\n",
    "if response.status_code == 200:\n",
    "    forks = response.json()\n",
    "    languages = set()  # \n",
    "\n",
    "    for fork in forks:\n",
    "        language = fork.get('language')\n",
    "        if language:\n",
    "            languages.add(language)\n",
    "\n",
    "    print(list(languages))\n",
    "else:\n",
    "    print(response.status_code)\n"
   ]
  },
  {
   "cell_type": "markdown",
   "id": "3f5b5c1e-cdf1-46f1-a897-eddd7d4e1e25",
   "metadata": {},
   "source": [
    "### I'm going to try challenge 2, I can't seem to figure out what I'm supposed to be doing for part 1 ###"
   ]
  },
  {
   "cell_type": "code",
   "execution_count": 55,
   "id": "61d2b5a8-8aa3-4b36-893e-553359c07022",
   "metadata": {},
   "outputs": [
    {
     "name": "stdout",
     "output_type": "stream",
     "text": [
      "2024-06-02T16:18:28.836892\n",
      "0\n",
      "2\n"
     ]
    }
   ],
   "source": [
    "from datetime import datetime, timedelta\n",
    "\n",
    "# Let's figure out 3 weeks ago\n",
    "three_weeks_ago = datetime.now() - timedelta(weeks=3)\n",
    "since_date = three_weeks_ago.isoformat()\n",
    "\n",
    "print(since_date) # works\n",
    "\n",
    "# The lab we need:\n",
    "owner = 'ta-data-pt-rmt'\n",
    "repo = 'lab-mysql-first-queries'\n",
    "\n",
    "#Let's add that to our url:\n",
    "commits_url = \"https://api.github.com/repos/\"+owner+\"/\"+repo+\"/commits\"\n",
    "#print(commits_url) it works\n",
    "\n",
    "params = {'since': since_date}\n",
    "response = requests.get(commits_url, headers=headers, params=params)\n",
    "\n",
    "if response.status_code == 200:\n",
    "    commits = response.json()\n",
    "    commit_count = len(commits)\n",
    "    print(commit_count)\n",
    "else:\n",
    "    print(response.status_code)\n",
    "\n",
    "# So I checked and that's true, the last commit is 2 years ago here: https://github.com/ta-data-pt-rmt/lab-mysql-first-queries/commits/main/\n",
    "# Should I be checking pull requests instead?\n",
    "\n",
    "pulls_url = \"https://api.github.com/repos/\"+owner+\"/\"+repo+\"/pulls\"\n",
    "\n",
    "params = {'since': since_date}\n",
    "response = requests.get(pulls_url, headers=headers, params=params)\n",
    "\n",
    "if response.status_code == 200:\n",
    "    pull_requests = response.json()\n",
    "    #display(response.json())\n",
    "else:\n",
    "    print(response.status_code)\n",
    "\n",
    "# I'll use created here after looking at the .json\n",
    "\n",
    "params = {\n",
    "    'state': 'all',       \n",
    "    'sort': 'created',  \n",
    "}\n",
    "recent_pulls = []\n",
    "\n",
    "for pr in pull_requests:\n",
    "    if pr['created_at'] >= since_date:\n",
    "            recent_pulls.append(pr) \n",
    "#print(recent_pulls)\n",
    "\n",
    "pull_count = len(recent_pulls)\n",
    "\n",
    "print(pull_count) # Yay! works"
   ]
  },
  {
   "cell_type": "markdown",
   "id": "82ae5585-af28-46f5-87bf-c96e1f28ada0",
   "metadata": {},
   "source": [
    "## I struggled a bit with this lab (with the instructions), the API stuff was fine. I couldn't definitively understand the requirements, but I think I've got a hang on APIs ##"
   ]
  },
  {
   "cell_type": "code",
   "execution_count": null,
   "id": "963a7f0e-a1a3-4fb9-9f7b-fc32ea479c0a",
   "metadata": {},
   "outputs": [],
   "source": []
  }
 ],
 "metadata": {
  "kernelspec": {
   "display_name": "Python 3 (ipykernel)",
   "language": "python",
   "name": "python3"
  },
  "language_info": {
   "codemirror_mode": {
    "name": "ipython",
    "version": 3
   },
   "file_extension": ".py",
   "mimetype": "text/x-python",
   "name": "python",
   "nbconvert_exporter": "python",
   "pygments_lexer": "ipython3",
   "version": "3.9.19"
  }
 },
 "nbformat": 4,
 "nbformat_minor": 5
}
