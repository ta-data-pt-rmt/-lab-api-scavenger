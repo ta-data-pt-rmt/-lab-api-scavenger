{
 "cells": [
  {
   "cell_type": "markdown",
   "id": "2eaf369f",
   "metadata": {},
   "source": [
    "### Your lab resolution :"
   ]
  },
  {
   "cell_type": "code",
   "execution_count": 42,
   "id": "6c94489a",
   "metadata": {},
   "outputs": [],
   "source": [
    "import pandas as pd\n",
    "import json\n",
    "from datetime import datetime"
   ]
  },
  {
   "cell_type": "code",
   "execution_count": 43,
   "id": "8768f438",
   "metadata": {},
   "outputs": [],
   "source": [
    "forks = pd.read_json('forks.json')"
   ]
  },
  {
   "cell_type": "code",
   "execution_count": 44,
   "id": "2ba9112b",
   "metadata": {},
   "outputs": [
    {
     "data": {
      "text/plain": [
       "Index(['id', 'node_id', 'name', 'full_name', 'private', 'owner', 'html_url',\n",
       "       'description', 'fork', 'url', 'forks_url', 'keys_url',\n",
       "       'collaborators_url', 'teams_url', 'hooks_url', 'issue_events_url',\n",
       "       'events_url', 'assignees_url', 'branches_url', 'tags_url', 'blobs_url',\n",
       "       'git_tags_url', 'git_refs_url', 'trees_url', 'statuses_url',\n",
       "       'languages_url', 'stargazers_url', 'contributors_url',\n",
       "       'subscribers_url', 'subscription_url', 'commits_url', 'git_commits_url',\n",
       "       'comments_url', 'issue_comment_url', 'contents_url', 'compare_url',\n",
       "       'merges_url', 'archive_url', 'downloads_url', 'issues_url', 'pulls_url',\n",
       "       'milestones_url', 'notifications_url', 'labels_url', 'releases_url',\n",
       "       'deployments_url', 'created_at', 'updated_at', 'pushed_at', 'git_url',\n",
       "       'ssh_url', 'clone_url', 'svn_url', 'homepage', 'size',\n",
       "       'stargazers_count', 'watchers_count', 'language', 'has_issues',\n",
       "       'has_projects', 'has_downloads', 'has_wiki', 'has_pages',\n",
       "       'has_discussions', 'forks_count', 'mirror_url', 'archived', 'disabled',\n",
       "       'open_issues_count', 'license', 'allow_forking', 'is_template',\n",
       "       'web_commit_signoff_required', 'topics', 'visibility', 'forks',\n",
       "       'open_issues', 'watchers', 'default_branch', 'permissions'],\n",
       "      dtype='object')"
      ]
     },
     "execution_count": 44,
     "metadata": {},
     "output_type": "execute_result"
    }
   ],
   "source": [
    "forks.columns"
   ]
  },
  {
   "cell_type": "code",
   "execution_count": 45,
   "id": "e42a4c91",
   "metadata": {},
   "outputs": [
    {
     "data": {
      "text/plain": [
       "0                None\n",
       "1                None\n",
       "2                None\n",
       "3                None\n",
       "4                None\n",
       "5                None\n",
       "6    Jupyter Notebook\n",
       "Name: language, dtype: object"
      ]
     },
     "execution_count": 45,
     "metadata": {},
     "output_type": "execute_result"
    }
   ],
   "source": [
    "forks['language']\n"
   ]
  },
  {
   "cell_type": "code",
   "execution_count": 46,
   "id": "5e64ef05",
   "metadata": {},
   "outputs": [
    {
     "data": {
      "text/plain": [
       "array([None, 'Jupyter Notebook'], dtype=object)"
      ]
     },
     "execution_count": 46,
     "metadata": {},
     "output_type": "execute_result"
    }
   ],
   "source": [
    "forks['language'].unique()"
   ]
  },
  {
   "cell_type": "code",
   "execution_count": 47,
   "id": "743f6c1e",
   "metadata": {},
   "outputs": [
    {
     "data": {
      "text/html": [
       "<div>\n",
       "<style scoped>\n",
       "    .dataframe tbody tr th:only-of-type {\n",
       "        vertical-align: middle;\n",
       "    }\n",
       "\n",
       "    .dataframe tbody tr th {\n",
       "        vertical-align: top;\n",
       "    }\n",
       "\n",
       "    .dataframe thead th {\n",
       "        text-align: right;\n",
       "    }\n",
       "</style>\n",
       "<table border=\"1\" class=\"dataframe\">\n",
       "  <thead>\n",
       "    <tr style=\"text-align: right;\">\n",
       "      <th></th>\n",
       "      <th>sha</th>\n",
       "      <th>node_id</th>\n",
       "      <th>commit</th>\n",
       "      <th>url</th>\n",
       "      <th>html_url</th>\n",
       "      <th>comments_url</th>\n",
       "      <th>author</th>\n",
       "      <th>committer</th>\n",
       "      <th>parents</th>\n",
       "    </tr>\n",
       "  </thead>\n",
       "  <tbody>\n",
       "    <tr>\n",
       "      <th>0</th>\n",
       "      <td>b2fb48cfae83a8fed6b62b4bcbed7e31109ad035</td>\n",
       "      <td>C_kwDOHB089NoAKGIyZmI0OGNmYWU4M2E4ZmVkNmI2MmI0...</td>\n",
       "      <td>{'author': {'name': 'ta-data-pt-rmt', 'email':...</td>\n",
       "      <td>https://api.github.com/repos/ta-data-pt-rmt/la...</td>\n",
       "      <td>https://github.com/ta-data-pt-rmt/lab-mysql-fi...</td>\n",
       "      <td>https://api.github.com/repos/ta-data-pt-rmt/la...</td>\n",
       "      <td>{'login': 'ta-data-pt-rmt', 'id': 99891270, 'n...</td>\n",
       "      <td>{'login': 'web-flow', 'id': 19864447, 'node_id...</td>\n",
       "      <td>[{'sha': '0e1ba0f7d937f1a1c88f578f052803e19344...</td>\n",
       "    </tr>\n",
       "    <tr>\n",
       "      <th>1</th>\n",
       "      <td>0e1ba0f7d937f1a1c88f578f052803e193440c27</td>\n",
       "      <td>C_kwDOHB089NoAKDBlMWJhMGY3ZDkzN2YxYTFjODhmNTc4...</td>\n",
       "      <td>{'author': {'name': 'ta-data-pt-rmt', 'email':...</td>\n",
       "      <td>https://api.github.com/repos/ta-data-pt-rmt/la...</td>\n",
       "      <td>https://github.com/ta-data-pt-rmt/lab-mysql-fi...</td>\n",
       "      <td>https://api.github.com/repos/ta-data-pt-rmt/la...</td>\n",
       "      <td>{'login': 'ta-data-pt-rmt', 'id': 99891270, 'n...</td>\n",
       "      <td>{'login': 'web-flow', 'id': 19864447, 'node_id...</td>\n",
       "      <td>[{'sha': '93b5ce69f2ce8dc6513e90bcbf672a1f14c9...</td>\n",
       "    </tr>\n",
       "    <tr>\n",
       "      <th>2</th>\n",
       "      <td>93b5ce69f2ce8dc6513e90bcbf672a1f14c944bd</td>\n",
       "      <td>C_kwDOHB089NoAKDkzYjVjZTY5ZjJjZThkYzY1MTNlOTBi...</td>\n",
       "      <td>{'author': {'name': 'ta-data-pt-rmt', 'email':...</td>\n",
       "      <td>https://api.github.com/repos/ta-data-pt-rmt/la...</td>\n",
       "      <td>https://github.com/ta-data-pt-rmt/lab-mysql-fi...</td>\n",
       "      <td>https://api.github.com/repos/ta-data-pt-rmt/la...</td>\n",
       "      <td>{'login': 'ta-data-pt-rmt', 'id': 99891270, 'n...</td>\n",
       "      <td>{'login': 'web-flow', 'id': 19864447, 'node_id...</td>\n",
       "      <td>[]</td>\n",
       "    </tr>\n",
       "  </tbody>\n",
       "</table>\n",
       "</div>"
      ],
      "text/plain": [
       "                                        sha  \\\n",
       "0  b2fb48cfae83a8fed6b62b4bcbed7e31109ad035   \n",
       "1  0e1ba0f7d937f1a1c88f578f052803e193440c27   \n",
       "2  93b5ce69f2ce8dc6513e90bcbf672a1f14c944bd   \n",
       "\n",
       "                                             node_id  \\\n",
       "0  C_kwDOHB089NoAKGIyZmI0OGNmYWU4M2E4ZmVkNmI2MmI0...   \n",
       "1  C_kwDOHB089NoAKDBlMWJhMGY3ZDkzN2YxYTFjODhmNTc4...   \n",
       "2  C_kwDOHB089NoAKDkzYjVjZTY5ZjJjZThkYzY1MTNlOTBi...   \n",
       "\n",
       "                                              commit  \\\n",
       "0  {'author': {'name': 'ta-data-pt-rmt', 'email':...   \n",
       "1  {'author': {'name': 'ta-data-pt-rmt', 'email':...   \n",
       "2  {'author': {'name': 'ta-data-pt-rmt', 'email':...   \n",
       "\n",
       "                                                 url  \\\n",
       "0  https://api.github.com/repos/ta-data-pt-rmt/la...   \n",
       "1  https://api.github.com/repos/ta-data-pt-rmt/la...   \n",
       "2  https://api.github.com/repos/ta-data-pt-rmt/la...   \n",
       "\n",
       "                                            html_url  \\\n",
       "0  https://github.com/ta-data-pt-rmt/lab-mysql-fi...   \n",
       "1  https://github.com/ta-data-pt-rmt/lab-mysql-fi...   \n",
       "2  https://github.com/ta-data-pt-rmt/lab-mysql-fi...   \n",
       "\n",
       "                                        comments_url  \\\n",
       "0  https://api.github.com/repos/ta-data-pt-rmt/la...   \n",
       "1  https://api.github.com/repos/ta-data-pt-rmt/la...   \n",
       "2  https://api.github.com/repos/ta-data-pt-rmt/la...   \n",
       "\n",
       "                                              author  \\\n",
       "0  {'login': 'ta-data-pt-rmt', 'id': 99891270, 'n...   \n",
       "1  {'login': 'ta-data-pt-rmt', 'id': 99891270, 'n...   \n",
       "2  {'login': 'ta-data-pt-rmt', 'id': 99891270, 'n...   \n",
       "\n",
       "                                           committer  \\\n",
       "0  {'login': 'web-flow', 'id': 19864447, 'node_id...   \n",
       "1  {'login': 'web-flow', 'id': 19864447, 'node_id...   \n",
       "2  {'login': 'web-flow', 'id': 19864447, 'node_id...   \n",
       "\n",
       "                                             parents  \n",
       "0  [{'sha': '0e1ba0f7d937f1a1c88f578f052803e19344...  \n",
       "1  [{'sha': '93b5ce69f2ce8dc6513e90bcbf672a1f14c9...  \n",
       "2                                                 []  "
      ]
     },
     "execution_count": 47,
     "metadata": {},
     "output_type": "execute_result"
    }
   ],
   "source": [
    "#Challenge 2\n",
    "commits = pd.read_json('commits_scavenger.json')\n",
    "commits.head()"
   ]
  },
  {
   "cell_type": "code",
   "execution_count": 48,
   "id": "4691e2de",
   "metadata": {},
   "outputs": [
    {
     "data": {
      "text/plain": [
       "Index(['sha', 'node_id', 'commit', 'url', 'html_url', 'comments_url', 'author',\n",
       "       'committer', 'parents'],\n",
       "      dtype='object')"
      ]
     },
     "execution_count": 48,
     "metadata": {},
     "output_type": "execute_result"
    }
   ],
   "source": [
    "commits.columns"
   ]
  },
  {
   "cell_type": "code",
   "execution_count": 49,
   "id": "500eee96",
   "metadata": {},
   "outputs": [
    {
     "data": {
      "text/plain": [
       "{'author': {'name': 'ta-data-pt-rmt',\n",
       "  'email': '99891270+ta-data-pt-rmt@users.noreply.github.com',\n",
       "  'date': '2022-03-31T18:05:34Z'},\n",
       " 'committer': {'name': 'GitHub',\n",
       "  'email': 'noreply@github.com',\n",
       "  'date': '2022-03-31T18:05:34Z'},\n",
       " 'message': 'Add files via upload\\n\\nalternative dataset, with different formatting',\n",
       " 'tree': {'sha': '9a93890ad46c565f62d5406e4b97a0355e943611',\n",
       "  'url': 'https://api.github.com/repos/ta-data-pt-rmt/lab-mysql-first-queries/git/trees/9a93890ad46c565f62d5406e4b97a0355e943611'},\n",
       " 'url': 'https://api.github.com/repos/ta-data-pt-rmt/lab-mysql-first-queries/git/commits/b2fb48cfae83a8fed6b62b4bcbed7e31109ad035',\n",
       " 'comment_count': 0,\n",
       " 'verification': {'verified': True,\n",
       "  'reason': 'valid',\n",
       "  'signature': '-----BEGIN PGP SIGNATURE-----\\n\\nwsBcBAABCAAQBQJiRe1uCRBK7hj4Ov3rIwAA0hAIAJRv/KZt2xSj6NAjwqURApd9\\nldqBhHl4AZ/vrYv/2UgvT9AxjcdkRTFfU5UzgcdBMQVNharCSO7E5O6bgGw1xgdH\\n7s+ttsYmcU/WaRjRIf7L5KGtFcYI/L6EVlZr7nBYV132UEIXvxu+yGXqm+x5ZE26\\nFt6AN30mX/4ttJKKcLfhiLS4aqUquJfal3Fr9AiVGCgHK1I4zNL/7/T4ELqSIA8X\\nNYrX2GHNyiNpM/V2bAZoPqwWwYe+7fdRI8bC+4zp8cPy0DQ0+A0+v1SqAqzBX9ea\\n0wvZQKRD5q9qcn7bXVmAP8Gh95eENg+r2NJyyltUtE5a9Ul6MohB97z1g17NOTI=\\n=uJxt\\n-----END PGP SIGNATURE-----\\n',\n",
       "  'payload': 'tree 9a93890ad46c565f62d5406e4b97a0355e943611\\nparent 0e1ba0f7d937f1a1c88f578f052803e193440c27\\nauthor ta-data-pt-rmt <99891270+ta-data-pt-rmt@users.noreply.github.com> 1648749934 +0100\\ncommitter GitHub <noreply@github.com> 1648749934 +0100\\n\\nAdd files via upload\\n\\nalternative dataset, with different formatting'}}"
      ]
     },
     "execution_count": 49,
     "metadata": {},
     "output_type": "execute_result"
    }
   ],
   "source": [
    "commits['commit'].iloc[0]"
   ]
  },
  {
   "cell_type": "code",
   "execution_count": 50,
   "id": "190819fb",
   "metadata": {},
   "outputs": [
    {
     "data": {
      "text/html": [
       "<div>\n",
       "<style scoped>\n",
       "    .dataframe tbody tr th:only-of-type {\n",
       "        vertical-align: middle;\n",
       "    }\n",
       "\n",
       "    .dataframe tbody tr th {\n",
       "        vertical-align: top;\n",
       "    }\n",
       "\n",
       "    .dataframe thead th {\n",
       "        text-align: right;\n",
       "    }\n",
       "</style>\n",
       "<table border=\"1\" class=\"dataframe\">\n",
       "  <thead>\n",
       "    <tr style=\"text-align: right;\">\n",
       "      <th></th>\n",
       "      <th>message</th>\n",
       "      <th>url</th>\n",
       "      <th>comment_count</th>\n",
       "      <th>author.name</th>\n",
       "      <th>author.email</th>\n",
       "      <th>author.date</th>\n",
       "      <th>committer.name</th>\n",
       "      <th>committer.email</th>\n",
       "      <th>committer.date</th>\n",
       "      <th>tree.sha</th>\n",
       "      <th>tree.url</th>\n",
       "      <th>verification.verified</th>\n",
       "      <th>verification.reason</th>\n",
       "      <th>verification.signature</th>\n",
       "      <th>verification.payload</th>\n",
       "    </tr>\n",
       "  </thead>\n",
       "  <tbody>\n",
       "    <tr>\n",
       "      <th>0</th>\n",
       "      <td>Add files via upload\\n\\nalternative dataset, w...</td>\n",
       "      <td>https://api.github.com/repos/ta-data-pt-rmt/la...</td>\n",
       "      <td>0</td>\n",
       "      <td>ta-data-pt-rmt</td>\n",
       "      <td>99891270+ta-data-pt-rmt@users.noreply.github.com</td>\n",
       "      <td>2022-03-31T18:05:34Z</td>\n",
       "      <td>GitHub</td>\n",
       "      <td>noreply@github.com</td>\n",
       "      <td>2022-03-31T18:05:34Z</td>\n",
       "      <td>9a93890ad46c565f62d5406e4b97a0355e943611</td>\n",
       "      <td>https://api.github.com/repos/ta-data-pt-rmt/la...</td>\n",
       "      <td>True</td>\n",
       "      <td>valid</td>\n",
       "      <td>-----BEGIN PGP SIGNATURE-----\\n\\nwsBcBAABCAAQB...</td>\n",
       "      <td>tree 9a93890ad46c565f62d5406e4b97a0355e943611\\...</td>\n",
       "    </tr>\n",
       "  </tbody>\n",
       "</table>\n",
       "</div>"
      ],
      "text/plain": [
       "                                             message  \\\n",
       "0  Add files via upload\\n\\nalternative dataset, w...   \n",
       "\n",
       "                                                 url  comment_count  \\\n",
       "0  https://api.github.com/repos/ta-data-pt-rmt/la...              0   \n",
       "\n",
       "      author.name                                      author.email  \\\n",
       "0  ta-data-pt-rmt  99891270+ta-data-pt-rmt@users.noreply.github.com   \n",
       "\n",
       "            author.date committer.name     committer.email  \\\n",
       "0  2022-03-31T18:05:34Z         GitHub  noreply@github.com   \n",
       "\n",
       "         committer.date                                  tree.sha  \\\n",
       "0  2022-03-31T18:05:34Z  9a93890ad46c565f62d5406e4b97a0355e943611   \n",
       "\n",
       "                                            tree.url  verification.verified  \\\n",
       "0  https://api.github.com/repos/ta-data-pt-rmt/la...                   True   \n",
       "\n",
       "  verification.reason                             verification.signature  \\\n",
       "0               valid  -----BEGIN PGP SIGNATURE-----\\n\\nwsBcBAABCAAQB...   \n",
       "\n",
       "                                verification.payload  \n",
       "0  tree 9a93890ad46c565f62d5406e4b97a0355e943611\\...  "
      ]
     },
     "execution_count": 50,
     "metadata": {},
     "output_type": "execute_result"
    }
   ],
   "source": [
    "#let's explore by normalizing it\n",
    "pd.json_normalize(commits['commit'][0])"
   ]
  },
  {
   "cell_type": "code",
   "execution_count": 51,
   "id": "e6baff4a",
   "metadata": {},
   "outputs": [],
   "source": [
    "normalized_df = pd.DataFrame()\n",
    "for i in range(len(commits)):\n",
    "    each_row_df = pd.json_normalize(commits['commit'][i])\n",
    "    normalized_df = pd.concat([normalized_df, each_row_df])\n",
    "\n",
    "#this way we expand the data and avoid doing so manually like commits['commit'].iloc[0]['author']['date']"
   ]
  },
  {
   "cell_type": "code",
   "execution_count": 52,
   "id": "112a6706",
   "metadata": {},
   "outputs": [
    {
     "data": {
      "text/plain": [
       "0    2022-03-31T18:05:34Z\n",
       "0    2022-03-31T18:04:49Z\n",
       "0    2022-03-19T11:41:30Z\n",
       "Name: committer.date, dtype: object"
      ]
     },
     "execution_count": 52,
     "metadata": {},
     "output_type": "execute_result"
    }
   ],
   "source": [
    "normalized_df['committer.date']"
   ]
  },
  {
   "cell_type": "code",
   "execution_count": 53,
   "id": "f042e6db",
   "metadata": {},
   "outputs": [],
   "source": [
    "normalize_df = normalized_df.reset_index(drop=True)"
   ]
  },
  {
   "cell_type": "code",
   "execution_count": 54,
   "id": "50b94683",
   "metadata": {},
   "outputs": [],
   "source": [
    "commits_final = commits.merge(normalized_df, how=\"inner\", left_index=True, right_index = True)"
   ]
  },
  {
   "cell_type": "code",
   "execution_count": 55,
   "id": "4baa6315",
   "metadata": {},
   "outputs": [
    {
     "data": {
      "text/plain": [
       "sha                       object\n",
       "node_id                   object\n",
       "commit                    object\n",
       "url_x                     object\n",
       "html_url                  object\n",
       "comments_url              object\n",
       "author                    object\n",
       "committer                 object\n",
       "parents                   object\n",
       "message                   object\n",
       "url_y                     object\n",
       "comment_count              int64\n",
       "author.name               object\n",
       "author.email              object\n",
       "author.date               object\n",
       "committer.name            object\n",
       "committer.email           object\n",
       "committer.date            object\n",
       "tree.sha                  object\n",
       "tree.url                  object\n",
       "verification.verified       bool\n",
       "verification.reason       object\n",
       "verification.signature    object\n",
       "verification.payload      object\n",
       "dtype: object"
      ]
     },
     "execution_count": 55,
     "metadata": {},
     "output_type": "execute_result"
    }
   ],
   "source": [
    "commits_final.dtypes"
   ]
  },
  {
   "cell_type": "code",
   "execution_count": 59,
   "id": "9b8e18a2",
   "metadata": {},
   "outputs": [],
   "source": [
    "commits_final['committer.date'] = commits_final['committer.date'].str.replace(\"Z\",\"\")"
   ]
  },
  {
   "cell_type": "code",
   "execution_count": 60,
   "id": "756a624a",
   "metadata": {},
   "outputs": [
    {
     "data": {
      "text/plain": [
       "0    2022-03-31T18:05:34\n",
       "0    2022-03-31T18:04:49\n",
       "0    2022-03-19T11:41:30\n",
       "Name: committer.date, dtype: object"
      ]
     },
     "execution_count": 60,
     "metadata": {},
     "output_type": "execute_result"
    }
   ],
   "source": [
    "commits_final['committer.date']"
   ]
  },
  {
   "cell_type": "code",
   "execution_count": 61,
   "id": "95edcfdc",
   "metadata": {},
   "outputs": [],
   "source": [
    "commits_final['committer.date'] = commits_final['committer.date'].apply(lambda x: datetime.strptime(x, \"%Y-%m-%dT%H:%M:%S\"))"
   ]
  },
  {
   "cell_type": "code",
   "execution_count": 63,
   "id": "44a61fa9",
   "metadata": {},
   "outputs": [
    {
     "data": {
      "text/plain": [
       "0    False\n",
       "0    False\n",
       "0    False\n",
       "Name: committer.date, dtype: bool"
      ]
     },
     "execution_count": 63,
     "metadata": {},
     "output_type": "execute_result"
    }
   ],
   "source": [
    "from dateutil.relativedelta import relativedelta\n",
    "commits_final['committer.date'] > pd.Timestamp.now() - relativedelta(days=21)"
   ]
  }
 ],
 "metadata": {
  "kernelspec": {
   "display_name": "base",
   "language": "python",
   "name": "python3"
  },
  "language_info": {
   "codemirror_mode": {
    "name": "ipython",
    "version": 3
   },
   "file_extension": ".py",
   "mimetype": "text/x-python",
   "name": "python",
   "nbconvert_exporter": "python",
   "pygments_lexer": "ipython3",
   "version": "3.9.13"
  },
  "vscode": {
   "interpreter": {
    "hash": "47f56c0b3f438c9e5ad2ea73a62260c35e4ae4ebdc2c727b69efb1afe6faea8c"
   }
  }
 },
 "nbformat": 4,
 "nbformat_minor": 5
}
