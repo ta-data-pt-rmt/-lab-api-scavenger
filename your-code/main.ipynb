{
 "cells": [
  {
   "cell_type": "markdown",
   "id": "2eaf369f",
   "metadata": {},
   "source": [
    "### Your lab resolution :"
   ]
  },
  {
   "cell_type": "code",
   "execution_count": null,
   "id": "6c94489a",
   "metadata": {},
   "outputs": [],
   "source": [
    "### Imports ###\n",
    "\n",
    "import json\n",
    "import requests\n",
    "import time\n",
    "import pandas as pd"
   ]
  },
  {
   "cell_type": "code",
   "execution_count": null,
   "id": "ec77a3ba",
   "metadata": {},
   "outputs": [],
   "source": [
    "### API token ###\n",
    "\n",
    "user = 'Senimtra'\n",
    "api_key = open('api_token.txt').read()"
   ]
  },
  {
   "cell_type": "markdown",
   "id": "b50b7b1a",
   "metadata": {},
   "source": [
    "### Challenge 1: Fork languages"
   ]
  },
  {
   "cell_type": "code",
   "execution_count": null,
   "id": "31d31da5",
   "metadata": {},
   "outputs": [],
   "source": [
    "# Get all repos owned by 'ta-data-pt-rmt'\n",
    "\n",
    "with open('all_repos.json') as file:\n",
    "   repos = json.load(file)\n",
    "\n",
    "repo_names = [repo['name'] for repo in repos]\n",
    "\n",
    "print(repo_names)"
   ]
  },
  {
   "cell_type": "code",
   "execution_count": null,
   "id": "0e41d220",
   "metadata": {},
   "outputs": [],
   "source": [
    "# Get forks-link for every repo\n",
    "\n",
    "forks_repo_list = [f'https://api.github.com/repos/ta-data-pt-rmt/{name}/forks' for name in repo_names]\n",
    "\n",
    "print(forks_repo_list)"
   ]
  },
  {
   "cell_type": "code",
   "execution_count": null,
   "id": "fa919942",
   "metadata": {},
   "outputs": [],
   "source": [
    "# Get languages from all forks from all repos\n",
    "\n",
    "languages = []\n",
    "\n",
    "for link in forks_repo_list:\n",
    "   response = requests.get(link, auth = (user, api_key))\n",
    "   forks = json.loads(response.content)\n",
    "   time.sleep(3)\n",
    "   for fork in forks:\n",
    "      languages.append(fork['language'])"
   ]
  },
  {
   "cell_type": "code",
   "execution_count": null,
   "id": "76cbbd4f",
   "metadata": {},
   "outputs": [],
   "source": [
    "# Used languages\n",
    "\n",
    "lang_set = list(set(languages))\n",
    "\n",
    "print('Used languages:', lang_set)\n",
    "\n",
    "# ['Jupyter Notebook', 'Python', None]"
   ]
  },
  {
   "cell_type": "code",
   "execution_count": null,
   "id": "5938823d",
   "metadata": {},
   "outputs": [],
   "source": [
    "# Languages Dataframe\n",
    "\n",
    "languages_data = [len(repo_names), len(languages), languages.count('Jupyter Notebook'), languages.count('Python'), languages.count(None)]\n",
    "\n",
    "pd.DataFrame(data = [languages_data], columns = ['Total repos', 'Total forks', 'Jupyter-Notebook', 'Python', 'None'])\n",
    "\n",
    "# Total repos  (51)\n",
    "# Total forks  (871)\n",
    "\n",
    "# Jupyter-Nb.  (591)\n",
    "# Python       (5)\n",
    "# None         (275)"
   ]
  },
  {
   "cell_type": "markdown",
   "id": "f16cf585",
   "metadata": {},
   "source": [
    "### Challenge 2: Count commits"
   ]
  },
  {
   "cell_type": "code",
   "execution_count": null,
   "id": "782c68be",
   "metadata": {},
   "outputs": [],
   "source": [
    "# Get all fork-links for 'lab-mysql-first-queries'\n",
    "\n",
    "response = requests.get('https://api.github.com/repos/ta-data-pt-rmt/lab-mysql-first-queries/forks?page=1&per_page=100', auth = (user, api_key))\n",
    "\n",
    "fork_links = json.loads(response.content)"
   ]
  },
  {
   "cell_type": "code",
   "execution_count": null,
   "id": "bb3bf1ec",
   "metadata": {},
   "outputs": [],
   "source": [
    "# Get all commits for 'lab-mysql-first-queries'\n",
    "\n",
    "commits = []\n",
    "\n",
    "for fork in fork_links:\n",
    "   url = fork['commits_url'].replace('{/sha}', '')\n",
    "   response = requests.get(url + '?since=3weeks', auth = (user, api_key))\n",
    "   commit_list = json.loads(response.content)\n",
    "   time.sleep(3)\n",
    "   for entry in commit_list:\n",
    "      commits.append(entry['commit']['author']['date'])\n",
    "\n",
    "commits\n",
    "\n",
    "# ['2022-10-29T13:28:34Z',\n",
    "#  '2022-10-17T19:28:24Z',\n",
    "#  '2022-10-17T13:11:48Z',\n",
    "#  '2022-10-18T16:18:23Z',\n",
    "#  '2022-10-18T09:59:53Z']\n",
    "\n",
    "# ==> 5 commits made in the past 3 weeks"
   ]
  }
 ],
 "metadata": {
  "kernelspec": {
   "display_name": "Python 3.9.12 ('base')",
   "language": "python",
   "name": "python3"
  },
  "language_info": {
   "codemirror_mode": {
    "name": "ipython",
    "version": 3
   },
   "file_extension": ".py",
   "mimetype": "text/x-python",
   "name": "python",
   "nbconvert_exporter": "python",
   "pygments_lexer": "ipython3",
   "version": "3.9.12"
  },
  "vscode": {
   "interpreter": {
    "hash": "3a677cc3a62f2d81855f233fae469a5f43f070d97a640d213221ee6c91be41b5"
   }
  }
 },
 "nbformat": 4,
 "nbformat_minor": 5
}
