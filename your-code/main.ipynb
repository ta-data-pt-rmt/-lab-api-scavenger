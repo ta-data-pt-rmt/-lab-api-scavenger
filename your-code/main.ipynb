{
 "cells": [
  {
   "cell_type": "markdown",
   "id": "a4218e8a",
   "metadata": {},
   "source": [
    "# Challenge 1: Fork Languages"
   ]
  },
  {
   "cell_type": "code",
   "execution_count": 11,
   "id": "6c94489a",
   "metadata": {},
   "outputs": [
    {
     "name": "stdout",
     "output_type": "stream",
     "text": [
      "['HTML', 'Python', 'Jupyter Notebook']\n"
     ]
    }
   ],
   "source": [
    "import requests\n",
    "\n",
    "# Read authorization token from token.txt\n",
    "with open('token.txt') as f:\n",
    "    token = f.read()\n",
    "\n",
    "# Authorization headers\n",
    "headers = {\n",
    "    'Authorization': f'token {token}'\n",
    "}\n",
    "\n",
    "# Get the list of forks\n",
    "response = requests.get('https://api.github.com/repos/ironhack-datalabs/bcn-feb-2019/forks', headers=headers)\n",
    "forks = response.json()\n",
    "\n",
    "# Initialize a set to store unique programming languages\n",
    "languages = set()\n",
    "\n",
    "# Loop through each fork\n",
    "for fork in forks:\n",
    "    # Get the languages_url for each fork\n",
    "    languages_url = fork['languages_url']\n",
    "    # Get the languages used in each fork\n",
    "    languages_response = requests.get(languages_url, headers=headers)\n",
    "    # Extract the language data from the response\n",
    "    language_data = languages_response.json()\n",
    "    # Add the languages to the set\n",
    "    languages.update(language_data.keys())\n",
    "\n",
    "# Convert the set to a list\n",
    "language_list = list(languages)\n",
    "\n",
    "# Print the list of programming languages\n",
    "print(language_list)"
   ]
  },
  {
   "cell_type": "markdown",
   "id": "c34ed8d9",
   "metadata": {},
   "source": [
    "# Challenge 2: Count Commits"
   ]
  },
  {
   "cell_type": "code",
   "execution_count": 12,
   "id": "ccf1fd4c",
   "metadata": {},
   "outputs": [
    {
     "name": "stdout",
     "output_type": "stream",
     "text": [
      "Number of commits made in the past 3 weeks: 0\n"
     ]
    }
   ],
   "source": [
    "from datetime import datetime, timedelta\n",
    "\n",
    "# Repository URL\n",
    "repo_url = 'https://api.github.com/repos/ta-data-pt-rmt/lab-mysql-first-queries'\n",
    "\n",
    "# Get the commits of the repository\n",
    "response = requests.get(f'{repo_url}/commits', headers=headers)\n",
    "commits = response.json()\n",
    "\n",
    "# Calculate the date 3 weeks ago\n",
    "three_weeks_ago = datetime.now() - timedelta(weeks=3)\n",
    "\n",
    "# Initialize a counter for commits made in the past 3 weeks\n",
    "num_commits_in_past_3_weeks = 0\n",
    "\n",
    "# Loop through each commit\n",
    "for commit in commits:\n",
    "    commit_date = datetime.strptime(commit['commit']['author']['date'], '%Y-%m-%dT%H:%M:%SZ')\n",
    "    if commit_date >= three_weeks_ago:\n",
    "        num_commits_in_past_3_weeks += 1\n",
    "\n",
    "# Print the number of commits made in the past 3 weeks\n",
    "print(\"Number of commits made in the past 3 weeks:\", num_commits_in_past_3_weeks)"
   ]
  }
 ],
 "metadata": {
  "kernelspec": {
   "display_name": "Python 3 (ipykernel)",
   "language": "python",
   "name": "python3"
  },
  "language_info": {
   "codemirror_mode": {
    "name": "ipython",
    "version": 3
   },
   "file_extension": ".py",
   "mimetype": "text/x-python",
   "name": "python",
   "nbconvert_exporter": "python",
   "pygments_lexer": "ipython3",
   "version": "3.11.7"
  }
 },
 "nbformat": 4,
 "nbformat_minor": 5
}
