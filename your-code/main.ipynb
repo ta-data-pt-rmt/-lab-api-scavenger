{
 "cells": [
  {
   "cell_type": "markdown",
   "id": "2eaf369f",
   "metadata": {},
   "source": [
    "### Your lab resolution :"
   ]
  },
  {
   "cell_type": "markdown",
   "id": "f3b13a5d",
   "metadata": {},
   "source": [
    "Challenge 1: Fork Languages"
   ]
  },
  {
   "cell_type": "code",
   "execution_count": 8,
   "id": "6c94489a",
   "metadata": {},
   "outputs": [
    {
     "name": "stdout",
     "output_type": "stream",
     "text": [
      "['Jupyter Notebook']\n"
     ]
    }
   ],
   "source": [
    "import requests\n",
    "\n",
    "# Define the main lab repo\n",
    "main_repo = \"ironhack-datalabs/bcn-feb-2019\"\n",
    "\n",
    "# Make GET request to obtain list of forks\n",
    "response = requests.get(f\"https://api.github.com/repos/{main_repo}/forks\")\n",
    "forks = response.json()\n",
    "\n",
    "# Create an empty set to store unique languages\n",
    "languages = set()\n",
    "\n",
    "# Loop through forks and collect languages\n",
    "for fork in forks:\n",
    "    language = fork.get(\"language\")\n",
    "    if language:\n",
    "        languages.add(language)\n",
    "\n",
    "# Convert set to list and print\n",
    "language_list = list(languages)\n",
    "print(language_list)"
   ]
  },
  {
   "cell_type": "markdown",
   "id": "5808d33c",
   "metadata": {},
   "source": [
    "Challenge 2: Count Commits"
   ]
  },
  {
   "cell_type": "code",
   "execution_count": 13,
   "id": "30d186c7",
   "metadata": {},
   "outputs": [
    {
     "name": "stdout",
     "output_type": "stream",
     "text": [
      "Number of commits made in the past 3 weeks: 0\n"
     ]
    }
   ],
   "source": [
    "import requests\n",
    "from datetime import datetime, timedelta\n",
    "\n",
    "# Define the main lab repo\n",
    "main_repo = \"ta-data-pt-rmt/lab-mysql-first-queries\"\n",
    "\n",
    "# Calculate the date three weeks ago\n",
    "three_weeks_ago = datetime.now() - timedelta(weeks=3)\n",
    "since_date = three_weeks_ago.strftime(\"%Y-%m-%dT%H:%M:%SZ\")\n",
    "\n",
    "# Make GET request to obtain commits made in the past 3 weeks\n",
    "response = requests.get(f\"https://api.github.com/repos/{main_repo}/commits\",\n",
    "                        params={\"since\": since_date})\n",
    "commits = response.json()\n",
    "\n",
    "# Count the number of commit objects\n",
    "num_commits = len(commits)\n",
    "print(f\"Number of commits made in the past 3 weeks: {num_commits}\")"
   ]
  },
  {
   "cell_type": "code",
   "execution_count": null,
   "id": "be134d74",
   "metadata": {},
   "outputs": [],
   "source": []
  }
 ],
 "metadata": {
  "kernelspec": {
   "display_name": "Python 3 (ipykernel)",
   "language": "python",
   "name": "python3"
  },
  "language_info": {
   "codemirror_mode": {
    "name": "ipython",
    "version": 3
   },
   "file_extension": ".py",
   "mimetype": "text/x-python",
   "name": "python",
   "nbconvert_exporter": "python",
   "pygments_lexer": "ipython3",
   "version": "3.11.7"
  }
 },
 "nbformat": 4,
 "nbformat_minor": 5
}
