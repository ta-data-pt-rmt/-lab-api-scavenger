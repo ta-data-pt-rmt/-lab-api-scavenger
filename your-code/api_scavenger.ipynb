{
 "cells": [
  {
   "cell_type": "markdown",
   "id": "2eaf369f",
   "metadata": {},
   "source": [
    "### Your lab resolution :"
   ]
  },
  {
   "cell_type": "code",
   "execution_count": 7,
   "id": "6c94489a",
   "metadata": {},
   "outputs": [],
   "source": [
    "import requests\n",
    "import pandas as pd\n",
    "import numpy as np\n",
    "import json\n",
    "from datetime import datetime"
   ]
  },
  {
   "cell_type": "code",
   "execution_count": 4,
   "id": "db207508",
   "metadata": {},
   "outputs": [
    {
     "name": "stdout",
     "output_type": "stream",
     "text": [
      "[\"Jupyter Notebook\"]\n"
     ]
    }
   ],
   "source": [
    "#Challenge 1\n",
    "url = 'https://api.github.com/repos/ironhack-datalabs/bcn-feb-2019/forks'\n",
    "response = requests.get(url)\n",
    "\n",
    "if response.status_code == 200:\n",
    "    forks = response.json()\n",
    "\n",
    "    languages = set()\n",
    "\n",
    "    # Loop through each fork and get the language attribute\n",
    "    for fork in forks:\n",
    "        if fork['language']:\n",
    "            languages.add(fork['language'])\n",
    "# Convert the set of languages to a list\n",
    "    languages_list = list(languages)\n",
    "\n",
    "    print(json.dumps(languages_list))\n",
    "else:\n",
    "    print('Failure', response.status_code)"
   ]
  },
  {
   "cell_type": "code",
   "execution_count": 8,
   "id": "f5bf7009",
   "metadata": {},
   "outputs": [
    {
     "name": "stdout",
     "output_type": "stream",
     "text": [
      "Number of commits made in the past 3 weeks: 0\n"
     ]
    }
   ],
   "source": [
    "#Challenge 2\n",
    "url = 'https://api.github.com/repos/ta-data-pt-rmt/lab-mysql-first-queries/commits'\n",
    "\n",
    "# Send a GET request to the GitHub API\n",
    "response = requests.get(url)\n",
    "\n",
    "# Check if the request was successful (status code 200)\n",
    "if response.status_code == 200:\n",
    "    commits = response.json()\n",
    "\n",
    "    count = 0\n",
    "    for commit in commits:\n",
    "        # Check if the commit was made within the past 3 weeks\n",
    "        if 'commit' in commit and 'committer' in commit['commit'] and 'date' in commit['commit']['committer']:\n",
    "            commit_date = commit['commit']['committer']['date']\n",
    "            if (datetime.now() - datetime.strptime(commit_date, '%Y-%m-%dT%H:%M:%SZ')).days <= 21:\n",
    "                count += 1\n",
    "\n",
    "    print('Number of commits made in the past 3 weeks:', count)\n",
    "else:\n",
    "    print('Failure', response.status_code)"
   ]
  },
  {
   "cell_type": "code",
   "execution_count": null,
   "id": "57d01aee",
   "metadata": {},
   "outputs": [],
   "source": []
  }
 ],
 "metadata": {
  "kernelspec": {
   "display_name": "Python 3",
   "language": "python",
   "name": "python3"
  },
  "language_info": {
   "codemirror_mode": {
    "name": "ipython",
    "version": 3
   },
   "file_extension": ".py",
   "mimetype": "text/x-python",
   "name": "python",
   "nbconvert_exporter": "python",
   "pygments_lexer": "ipython3",
   "version": "3.10.9"
  }
 },
 "nbformat": 4,
 "nbformat_minor": 5
}
